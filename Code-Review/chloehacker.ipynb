{
 "cells": [
  {
   "cell_type": "markdown",
   "metadata": {},
   "source": [
    "# The subprocess package\n",
    "\n",
    "The subprocess package is part of the Python standard library, however, it has changed significantly between Python2 and Python3, so we will cover some of the Py3 specific code, but mostly run code that is compatible between both, since you will see the Py2 examples in other peoples code. The following link is the official Python documentation for subprocess. It is bit dense, but has extra information for troubleshooting https://docs.python.org/3/library/subprocess.html."
   ]
  },
  {
   "cell_type": "markdown",
   "metadata": {},
   "source": [
    "### Note for windows users\n",
    "This notebook cannot be run on windows because it requires installing external software that is not available for windows (e.g., the programs `muscle` and `raxml`). However, you can run this notebook on the Habanero cluster by starting the notebook there. See instructions in notebook `nb-7.3-tunneling` to set this up. "
   ]
  },
  {
   "cell_type": "markdown",
   "metadata": {},
   "source": [
    "### Requried software\n",
    "The following packages are required for this notebook. Install with conda and restart the notebook."
   ]
  },
  {
   "cell_type": "code",
   "execution_count": 1,
   "metadata": {},
   "outputs": [],
   "source": [
    "# conda install raxml -c bioconda\n",
    "# conda install muscle -c bioconda\n",
    "# conda install toytree -c eaton-lab"
   ]
  },
  {
   "cell_type": "code",
   "execution_count": 1,
   "metadata": {},
   "outputs": [],
   "source": [
    "import subprocess as sps\n",
    "import toytree\n",
    "import shlex\n",
    "import sys"
   ]
  },
  {
   "cell_type": "markdown",
   "metadata": {},
   "source": [
    "### What does subprocess do?\n",
    "\n",
    "The subprocess module can be used to call bash commands or other shell scripts using pure Python code. In other words, under the hood when you run subprocess it opens up a terminal, runs your command, and returns the result as a string of text along with any accompanying error messages. "
   ]
  },
  {
   "cell_type": "markdown",
   "metadata": {},
   "source": [
    "### Why use subprocess?\n",
    "One of the most powerful uses of Python is in creating **pipelines** programs, a program that calls other programs (sometimes many of them) and returns nicely formatted results. Python is really nice for this because it is such a good language for parsing text files (results), and because it is easily readable. Thus you can write a Python program that works as a pipeline to run a very complex bash script and format it to be easily readable and executable in Python. Below is a simple example that calls `ls -l` to list the files in our current directory. We'll explain the functions in greater detail soon. \n"
   ]
  },
  {
   "cell_type": "code",
   "execution_count": 2,
   "metadata": {},
   "outputs": [],
   "source": [
    "## write a bash command as a list arg and execute it using .communicate()\n",
    "process = sps.Popen([\"ls\", \"-l\"], stdout=sps.PIPE)  \n",
    "stdout, stderr = process.communicate()             "
   ]
  },
  {
   "cell_type": "code",
   "execution_count": 3,
   "metadata": {},
   "outputs": [
    {
     "name": "stdout",
     "output_type": "stream",
     "text": [
      "total 128\n",
      "-rw-r--r-- 1 apf2139 user 24384 Mar  9 09:52 nb-7.1-ssh.ipynb\n",
      "-rw-r--r-- 1 apf2139 user 61492 Mar  9 09:52 nb-7.2-subprocess.ipynb\n",
      "-rw-r--r-- 1 apf2139 user 11387 Mar  9 09:52 nb-7.3-tunneling.ipynb\n",
      "\n"
     ]
    }
   ],
   "source": [
    "## stdout is the returned result, here decoded from bytes to string encoding\n",
    "print(stdout.decode())                              "
   ]
  },
  {
   "cell_type": "code",
   "execution_count": 4,
   "metadata": {},
   "outputs": [
    {
     "data": {
      "text/plain": [
       "0"
      ]
     },
     "execution_count": 4,
     "metadata": {},
     "output_type": "execute_result"
    }
   ],
   "source": [
    "## check for errors; returncode 0 = no error; > 0 is some kind of error\n",
    "process.returncode                     "
   ]
  },
  {
   "cell_type": "code",
   "execution_count": 5,
   "metadata": {},
   "outputs": [
    {
     "data": {
      "text/plain": [
       "['ls', '-l']"
      ]
     },
     "execution_count": 5,
     "metadata": {},
     "output_type": "execute_result"
    }
   ],
   "source": [
    "## ask what was the command again?\n",
    "process.args  "
   ]
  },
  {
   "cell_type": "markdown",
   "metadata": {},
   "source": [
    "### Blocking and asynchronous execution\n",
    "When you send a subprocess to be run it is actually being executed on a separate thread from the one that is running Python. In essence, you are running *parallel code* when you run a subprocess. We'll talk much more about parallel code in later weeks. But this is our first introduction to the idea. The simplest code for running subprocess is to use the function `.communicate()` which will **block** your Python code from being able to execute any more commands until the subprocess is finished. This can be useful if your next piece of code depends on the results of the subprocess. However, other times we might be interested in doing something else while the subprocess is running, in that case we will run *asynchronous* code, meaning that we can continue calling Python code and query the code the object to ask whether it is finished or not. Below are examples of both. "
   ]
  },
  {
   "cell_type": "code",
   "execution_count": 6,
   "metadata": {},
   "outputs": [],
   "source": [
    "## send a job to run that takes 10 seonds, communicate() blocks until finished\n",
    "proc = sps.Popen([\"sleep\", \"10\"])\n",
    "stdout, stderr = proc.communicate()"
   ]
  },
  {
   "cell_type": "code",
   "execution_count": 7,
   "metadata": {},
   "outputs": [],
   "source": [
    "## send a job to run but don't block, we'll query in the next cell whether it's ready\n",
    "proc = sps.Popen([\"sleep\", \"10\"])\n"
   ]
  },
  {
   "cell_type": "code",
   "execution_count": 10,
   "metadata": {},
   "outputs": [
    {
     "data": {
      "text/plain": [
       "0"
      ]
     },
     "execution_count": 10,
     "metadata": {},
     "output_type": "execute_result"
    }
   ],
   "source": [
    "## does not block; asks whether proc is ready; when finished it returns the returncode\n",
    "## execute this several times until you see a result returned.\n",
    "proc.poll()"
   ]
  },
  {
   "cell_type": "markdown",
   "metadata": {},
   "source": [
    "### Asynchronous execution\n",
    "In the code below we use the Python library time to call the same type of `sleep` function that is being called in the subprocess using the `sleep` bash program. Here we use a while loop to continue executing Python code until the subprocess is finished. We use `.poll()` to query whether it is finished, and if it is then we call `break` to exit the while loop. If it is not finished then we tell the code to wait two seconds and print a short message. This is an easy way to create something like a progress bar for a program. "
   ]
  },
  {
   "cell_type": "code",
   "execution_count": 11,
   "metadata": {},
   "outputs": [
    {
     "name": "stdout",
     "output_type": "stream",
     "text": [
      "waiting two seconds\n",
      "waiting two seconds\n",
      "waiting two seconds\n",
      "waiting two seconds\n",
      "waiting two seconds\n",
      "done\n"
     ]
    }
   ],
   "source": [
    "import time\n",
    "\n",
    "## send a job to run for 10 seconds\n",
    "process = sps.Popen([\"sleep\", \"10\"])\n",
    "\n",
    "## while statement means keep looping \n",
    "while 1:\n",
    "    ## break exits the 'while' loop\n",
    "    if process.poll() == 0:\n",
    "        print(\"done\")\n",
    "        break\n",
    "        \n",
    "    ## not finished, print, sleep, and continue looping\n",
    "    else:\n",
    "        print(\"waiting two seconds\")\n",
    "        time.sleep(2)   "
   ]
  },
  {
   "cell_type": "markdown",
   "metadata": {},
   "source": [
    "### stdout, stdin, and stderr\n",
    "In our first session we touched briefly on the concepts of `stdin`, `stdout`, and `stderr` as they relate to some of the bash commands that we learned. But now we'll talk about them in more detail. These three terms refer to three distinct communication channels that programs uses to communicate. It is a standardized format that has been around since the early days of Unix.\n",
    "\n",
    "The short description of these three channels is that `stdin` is the stream of data that is *entered in* to the program, whereas `stderr` and `stdout` are two channels that are returned as output from the program. Typically (though not always) `stdout` will contain results and `stderr` will be reserved for error messages. "
   ]
  },
  {
   "cell_type": "markdown",
   "metadata": {},
   "source": [
    "### stdout, stdin, and stderr in bash \n",
    "Below are some examples using `stdin`, `stdout`, or `stderr` differently in common bash scripts. Because the cell below has a `\"%%bash\"` header in it the code is executed as bash code instead of as IPython code. In bash these three channels can also be referred by the numbers 0, 1, and 2, respectively. Below I use the convention `1>` and `2>` to write to stdout and stderr. "
   ]
  },
  {
   "cell_type": "code",
   "execution_count": 12,
   "metadata": {},
   "outputs": [
    {
     "name": "stdout",
     "output_type": "stream",
     "text": [
      "hello world\n"
     ]
    }
   ],
   "source": [
    "%%bash\n",
    "## by default an echo statement returns stdout & stderr \n",
    "echo \"hello world\""
   ]
  },
  {
   "cell_type": "code",
   "execution_count": 13,
   "metadata": {},
   "outputs": [
    {
     "name": "stdout",
     "output_type": "stream",
     "text": [
      "hello world\n"
     ]
    }
   ],
   "source": [
    "%%bash\n",
    "## similarly, writing to a file combines stdout & stderr\n",
    "echo \"hello world\" > filestdout\n",
    "cat filestdout"
   ]
  },
  {
   "cell_type": "code",
   "execution_count": 17,
   "metadata": {},
   "outputs": [
    {
     "name": "stdout",
     "output_type": "stream",
     "text": [
      "hello world\n"
     ]
    }
   ],
   "source": [
    "%%bash\n",
    "echo \"hello world\" 1> filestdout\n",
    "cat filestdout"
   ]
  },
  {
   "cell_type": "code",
   "execution_count": 21,
   "metadata": {},
   "outputs": [
    {
     "name": "stdout",
     "output_type": "stream",
     "text": [
      "hello\n"
     ]
    }
   ],
   "source": [
    "%%bash\n",
    "## explicitly write only stdout to a file\n",
    "echo \"hello world\" | cut -b 1-5 1> filestdout\n",
    "cat filestdout"
   ]
  },
  {
   "cell_type": "code",
   "execution_count": 22,
   "metadata": {},
   "outputs": [
    {
     "name": "stdout",
     "output_type": "stream",
     "text": [
      "hello\n"
     ]
    }
   ],
   "source": [
    "%%bash\n",
    "echo \"hello world\" | cut -b 1-5 2> filestderr\n",
    "cat filestderr"
   ]
  },
  {
   "cell_type": "code",
   "execution_count": 24,
   "metadata": {},
   "outputs": [
    {
     "name": "stdout",
     "output_type": "stream",
     "text": [
      "cut: invalid byte, character or field list\n",
      "Try 'cut --help' for more information.\n"
     ]
    }
   ],
   "source": [
    "%%bash\n",
    "## this command is invalid (has : instead of -) and raises an error\n",
    "## which we write to filestderr. cat reads the file and prints it to stdout.\n",
    "echo \"hello world\" | cut -b 1:5 2> filestderr\n",
    "cat filestderr"
   ]
  },
  {
   "cell_type": "markdown",
   "metadata": {},
   "source": [
    "### stdin, stdout, and stderr in Python "
   ]
  },
  {
   "cell_type": "markdown",
   "metadata": {},
   "source": [
    "The `sys` module can be used to print separately to stdout and stderr in Python. This can be done using the `write()` command from `sys` or by adding it as an argument to the print function (Python3 only). "
   ]
  },
  {
   "cell_type": "code",
   "execution_count": 16,
   "metadata": {},
   "outputs": [
    {
     "name": "stdout",
     "output_type": "stream",
     "text": [
      "hello"
     ]
    }
   ],
   "source": [
    "sys.stdout.write(\"hello\")"
   ]
  },
  {
   "cell_type": "code",
   "execution_count": 17,
   "metadata": {},
   "outputs": [
    {
     "name": "stderr",
     "output_type": "stream",
     "text": [
      "hello"
     ]
    }
   ],
   "source": [
    "sys.stderr.write(\"hello\")"
   ]
  },
  {
   "cell_type": "code",
   "execution_count": 18,
   "metadata": {},
   "outputs": [
    {
     "name": "stdout",
     "output_type": "stream",
     "text": [
      "hello\n"
     ]
    }
   ],
   "source": [
    "print(\"hello\", file=sys.stdout)"
   ]
  },
  {
   "cell_type": "code",
   "execution_count": 19,
   "metadata": {},
   "outputs": [
    {
     "name": "stderr",
     "output_type": "stream",
     "text": [
      "hello\n"
     ]
    }
   ],
   "source": [
    "print(\"hello\", file=sys.stderr)"
   ]
  },
  {
   "cell_type": "markdown",
   "metadata": {},
   "source": [
    "### Splitting a command line string into a list\n",
    "\n",
    "The `shlex` library provides a convenient argument for splitting command strings into a list for use in subprocess. It differs in a few ways from the standard `split` command that can be used on strings, such as by recognizing when a space is part of a file name. We'll use it convert command line arguments to lists that can be entered to `subprocess`. "
   ]
  },
  {
   "cell_type": "code",
   "execution_count": 20,
   "metadata": {},
   "outputs": [
    {
     "data": {
      "text/plain": [
       "['cat', 'my file name with spaces in it']"
      ]
     },
     "execution_count": 20,
     "metadata": {},
     "output_type": "execute_result"
    }
   ],
   "source": [
    "cmd = \"cat my\\ file\\ name\\ with\\ spaces\\ in\\ it\"\n",
    "shlex.split(cmd)"
   ]
  },
  {
   "cell_type": "code",
   "execution_count": 21,
   "metadata": {
    "scrolled": true
   },
   "outputs": [
    {
     "data": {
      "text/plain": [
       "['cat', 'my', 'file', 'name', 'with', 'spaces', 'in', 'it']"
      ]
     },
     "execution_count": 21,
     "metadata": {},
     "output_type": "execute_result"
    }
   ],
   "source": [
    "cmd = \"cat my file name with spaces in it\"\n",
    "shlex.split(cmd)"
   ]
  },
  {
   "cell_type": "markdown",
   "metadata": {},
   "source": [
    "### Calling a single command and parsing its result\n",
    "\n",
    "The `Popen` class of subprocess is the most flexible way to call other programs, although there are a few other ways as well that you can find in the documentation. It takes as a required argument list of commands where each element in the list is a separate part of an argument that would normally be separated by a space in the command line string. The example below splits `\"ls -l\"` into `[\"ls\", \"-l\"]`. It can then take additional arguments that tell it how to redirect the stdin, stderr, and stdout. These are important for directing output either to files, or to be parsed as a string directly. As you will see below we can pipe together multiple commands by using the special value `PIPE` to connect multiple subprocess commands. "
   ]
  },
  {
   "cell_type": "code",
   "execution_count": 22,
   "metadata": {},
   "outputs": [],
   "source": [
    "cmd = \"ls -l\"\n",
    "cmdlist = shlex.split(cmd)\n",
    "proc = sps.Popen(cmdlist, stdout=sps.PIPE)\n",
    "stdout, stderr = proc.communicate()"
   ]
  },
  {
   "cell_type": "code",
   "execution_count": 23,
   "metadata": {},
   "outputs": [
    {
     "name": "stdout",
     "output_type": "stream",
     "text": [
      "total 128\n",
      "-rw-r--r-- 1 apf2139 user    82 Mar  9 11:21 filestderr\n",
      "-rw-r--r-- 1 apf2139 user     6 Mar  9 11:21 filestdout\n",
      "-rw-r--r-- 1 apf2139 user 24384 Mar  9 09:52 nb-7.1-ssh.ipynb\n",
      "-rw-r--r-- 1 apf2139 user 61427 Mar  9 11:23 nb-7.2-subprocess.ipynb\n",
      "-rw-r--r-- 1 apf2139 user 11387 Mar  9 09:52 nb-7.3-tunneling.ipynb\n",
      "\n"
     ]
    }
   ],
   "source": [
    "print(stdout.decode())"
   ]
  },
  {
   "cell_type": "markdown",
   "metadata": {},
   "source": [
    "### Using a PIPE to connect multiple program calls\n",
    "\n",
    "It is a bit more complex to call multiple programs that pipe results into one another, but using `subprocess` this can be done in a very clean way. Here we will call two programs where one pipes results to another. \n",
    "\n",
    "```bash\n",
    "echo \"hello world\" | cut -b 1-5\n",
    "```"
   ]
  },
  {
   "cell_type": "code",
   "execution_count": 24,
   "metadata": {},
   "outputs": [],
   "source": [
    "## write the commands to execute\n",
    "cmd1 = \"echo hello world\"\n",
    "cmd2 = \"cut -b 1-5\"\n",
    "\n",
    "## create subprocesses for each, designating stdin and stdout connected by pipes\n",
    "proc1 = sps.Popen(shlex.split(cmd1), stdout=sps.PIPE)\n",
    "proc2 = sps.Popen(shlex.split(cmd2), stdin=proc1.stdout, stdout=sps.PIPE)\n",
    "\n",
    "## execute just the last object, the former will inherit execution\n",
    "stdout, stderr = proc2.communicate()"
   ]
  },
  {
   "cell_type": "code",
   "execution_count": 25,
   "metadata": {},
   "outputs": [
    {
     "name": "stdout",
     "output_type": "stream",
     "text": [
      "hello\n",
      "\n"
     ]
    }
   ],
   "source": [
    "## print result nicely\n",
    "print(stdout.decode())"
   ]
  },
  {
   "cell_type": "markdown",
   "metadata": {},
   "source": [
    "### Call some more interesting biological programs\n",
    "\n",
    "#### Muscle\n",
    "Below we will call the two programs we installed at the top of this notebook. The first is a sequence alignment program called `muscle`. It takes as input a file with genetic sequence data in `fasta` format and uses an algorithm to find the optimal alignment of the sequences (the alignment that minimized the number of differences among them.) This type of operation is commonly used when doing phylogenetic analyses to ensure that homologous sites are being compared when searching for genetic substitutions. Muscle uses the following syntax: \n",
    "\n",
    "```\n",
    "muscle -in <fasta file> -out <fasta file>\n",
    "```\n",
    "\n",
    "However, it is also written so that if no `-out` argument is provided then it simply pipes its output to `stdout`, and similarly if no `-in` argument is provided then it looks for input on `stdin`. Let's try piping input to this program as a string using `stdin`. This can save us the trouble of having to write an input or output file, since we can just pipe string data into the program, and catch the stdout as a string. That is much more efficient. First I'll show the normal way of running `muscle` with file inputs and then the better way of using pipes. "
   ]
  },
  {
   "cell_type": "markdown",
   "metadata": {},
   "source": [
    "#### the normal way of running muscle with file input and outputs"
   ]
  },
  {
   "cell_type": "code",
   "execution_count": 2,
   "metadata": {},
   "outputs": [],
   "source": [
    "## fasta data as a string\n",
    "fasta_data = \"\"\"\\\n",
    ">sample1\n",
    "AAGGCCTTAAGGCGTTAAAACCTTAAGGCCTTAAGGCCTT\n",
    ">sample2\n",
    "AAGGCCTTTTGGCGTTAAAACCTTAAGGCCTAAAGGCCTT\n",
    ">sample3\n",
    "AAGCCCTAAAGCCCTTAAGGCCAAGGCCATAAGGCCGTGG\n",
    ">sample4\n",
    "AAGGCCTAAAGGCCTTAAGGCCAAGGCCATAAGGCCGTCG\n",
    ">sample5\n",
    "TTGGCCTATAGGCCTTTAGGCCAAGGCCTTGACGCCTAAG\n",
    "\"\"\"\n",
    "\n",
    "## write the string to a file\n",
    "with open(\"example.fa\", 'w') as out:\n",
    "    out.write(fasta_data)"
   ]
  },
  {
   "cell_type": "code",
   "execution_count": 3,
   "metadata": {},
   "outputs": [],
   "source": [
    "## run the full command with stdout written to a file\n",
    "cmd = \"muscle -in ./example.fa -out ./aligned.fa\"\n",
    "proc = sps.Popen(shlex.split(cmd), stderr=sps.PIPE)  # log is written to stderr\n",
    "stdout, stderr = proc.communicate()"
   ]
  },
  {
   "cell_type": "code",
   "execution_count": 4,
   "metadata": {},
   "outputs": [
    {
     "name": "stdout",
     "output_type": "stream",
     "text": [
      "\n",
      "MUSCLE v3.8.1551 by Robert C. Edgar\n",
      "\n",
      "http://www.drive5.com/muscle\n",
      "This software is donated to the public domain.\n",
      "Please cite: Edgar, R.C. Nucleic Acids Res 32(5), 1792-97.\n",
      "\n",
      "example 5 seqs, lengths min 40, max 40, avg 40\n",
      "00:00:00     24 MB(1%)  Iter   1    6.67%  K-mer dist pass 1\r",
      "00:00:00     24 MB(1%)  Iter   1  100.00%  K-mer dist pass 1\r\n",
      "00:00:00     24 MB(1%)  Iter   1    6.67%  K-mer dist pass 2\r",
      "00:00:00     24 MB(1%)  Iter   1  100.00%  K-mer dist pass 2\r\n",
      "00:00:00     24 MB(1%)  Iter   1   25.00%  Align node       \r",
      "00:00:00     25 MB(1%)  Iter   1   50.00%  Align node\r",
      "00:00:00     25 MB(1%)  Iter   1   75.00%  Align node\r",
      "00:00:00     25 MB(1%)  Iter   1  100.00%  Align node\r",
      "00:00:00     25 MB(1%)  Iter   1  100.00%  Align node\r\n",
      "00:00:00     25 MB(1%)  Iter   1   20.00%  Root alignment\r",
      "00:00:00     25 MB(1%)  Iter   1   40.00%  Root alignment\r",
      "00:00:00     25 MB(1%)  Iter   1   60.00%  Root alignment\r",
      "00:00:00     25 MB(1%)  Iter   1   80.00%  Root alignment\r",
      "00:00:00     25 MB(1%)  Iter   1  100.00%  Root alignment\r",
      "00:00:00     25 MB(1%)  Iter   1  100.00%  Root alignment\r\n",
      "00:00:00     25 MB(1%)  Iter   2  100.00%  Root alignment\r\n",
      "00:00:00     25 MB(1%)  Iter   3   28.57%  Refine biparts\r",
      "00:00:00     25 MB(1%)  Iter   3   42.86%  Refine biparts\r",
      "00:00:00     25 MB(1%)  Iter   3   57.14%  Refine biparts\r",
      "00:00:00     25 MB(1%)  Iter   3   71.43%  Refine biparts\r",
      "00:00:00     25 MB(1%)  Iter   3   85.71%  Refine biparts\r",
      "00:00:00     25 MB(1%)  Iter   3  100.00%  Refine biparts\r",
      "00:00:00     25 MB(1%)  Iter   3  114.29%  Refine biparts\r",
      "00:00:00     25 MB(1%)  Iter   3  100.00%  Refine biparts\r\n",
      "\n"
     ]
    }
   ],
   "source": [
    "## view the logged stats for the alignment\n",
    "print(stderr.decode())"
   ]
  },
  {
   "cell_type": "code",
   "execution_count": 5,
   "metadata": {},
   "outputs": [
    {
     "name": "stdout",
     "output_type": "stream",
     "text": [
      ">sample5\n",
      "TTGGCCTATAGGCCTTTAGGCC--AAGGCCTTGACGCCTAAG\n",
      ">sample3\n",
      "AAGCCCTAAAGCCCTTAAGGCC--AAGGCCATAAGGCCGTGG\n",
      ">sample4\n",
      "AAGGCCTAAAGGCCTTAAGGCC--AAGGCCATAAGGCCGTCG\n",
      ">sample1\n",
      "AAGGCCTTAAGGCGTTAAAACCTTAAGGCCTTAAGGCCTT--\n",
      ">sample2\n",
      "AAGGCCTTTTGGCGTTAAAACCTTAAGGCCTAAAGGCCTT--\n",
      "\n"
     ]
    }
   ],
   "source": [
    "## read the output from a file\n",
    "with open(\"aligned.fa\", 'r') as infile:\n",
    "    print(infile.read())"
   ]
  },
  {
   "cell_type": "markdown",
   "metadata": {},
   "source": [
    "### Alternative is to use PIPEs directly\n",
    "This way, as I said, can make for much cleaner and faster code. "
   ]
  },
  {
   "cell_type": "code",
   "execution_count": 28,
   "metadata": {},
   "outputs": [],
   "source": [
    "## pipe stdin, stderr, and stdout. The stdin is passed during communicate.\n",
    "proc = sps.Popen([\"muscle\"], stdin=sps.PIPE, stdout=sps.PIPE, stderr=sps.PIPE)\n",
    "stdout, stderr = proc.communicate(input=fasta_data.encode())"
   ]
  },
  {
   "cell_type": "code",
   "execution_count": 29,
   "metadata": {},
   "outputs": [
    {
     "name": "stdout",
     "output_type": "stream",
     "text": [
      ">sample5\n",
      "TTGGCCTATAGGCCTTTAGGCC--AAGGCCTTGACGCCTAAG\n",
      ">sample3\n",
      "AAGCCCTAAAGCCCTTAAGGCC--AAGGCCATAAGGCCGTGG\n",
      ">sample4\n",
      "AAGGCCTAAAGGCCTTAAGGCC--AAGGCCATAAGGCCGTCG\n",
      ">sample1\n",
      "AAGGCCTTAAGGCGTTAAAACCTTAAGGCCTTAAGGCCTT--\n",
      ">sample2\n",
      "AAGGCCTTTTGGCGTTAAAACCTTAAGGCCTAAAGGCCTT--\n",
      "\n"
     ]
    }
   ],
   "source": [
    "## view the stdout variable\n",
    "print(stdout.decode())"
   ]
  },
  {
   "cell_type": "code",
   "execution_count": 8,
   "metadata": {},
   "outputs": [
    {
     "name": "stdout",
     "output_type": "stream",
     "text": [
      "\n",
      "MUSCLE v3.8.1551 by Robert C. Edgar\n",
      "\n",
      "http://www.drive5.com/muscle\n",
      "This software is donated to the public domain.\n",
      "Please cite: Edgar, R.C. Nucleic Acids Res 32(5), 1792-97.\n",
      "\n",
      "- 5 seqs, lengths min 40, max 40, avg 40\n",
      "00:00:00     23 MB(1%)  Iter   1    6.67%  K-mer dist pass 1\r",
      "00:00:00     23 MB(1%)  Iter   1  100.00%  K-mer dist pass 1\r\n",
      "00:00:00     23 MB(1%)  Iter   1    6.67%  K-mer dist pass 2\r",
      "00:00:00     23 MB(1%)  Iter   1  100.00%  K-mer dist pass 2\r\n",
      "00:00:00     23 MB(1%)  Iter   1   25.00%  Align node       \r",
      "00:00:00     24 MB(1%)  Iter   1   50.00%  Align node\r",
      "00:00:00     24 MB(1%)  Iter   1   75.00%  Align node\r",
      "00:00:00     24 MB(1%)  Iter   1  100.00%  Align node\r",
      "00:00:00     24 MB(1%)  Iter   1  100.00%  Align node\r\n",
      "00:00:00     24 MB(1%)  Iter   1   20.00%  Root alignment\r",
      "00:00:00     24 MB(1%)  Iter   1   40.00%  Root alignment\r",
      "00:00:00     24 MB(1%)  Iter   1   60.00%  Root alignment\r",
      "00:00:00     24 MB(1%)  Iter   1   80.00%  Root alignment\r",
      "00:00:00     24 MB(1%)  Iter   1  100.00%  Root alignment\r",
      "00:00:00     24 MB(1%)  Iter   1  100.00%  Root alignment\r\n",
      "00:00:00     24 MB(1%)  Iter   2  100.00%  Root alignment\r\n",
      "00:00:00     24 MB(1%)  Iter   3   28.57%  Refine biparts\r",
      "00:00:00     24 MB(1%)  Iter   3   42.86%  Refine biparts\r",
      "00:00:00     24 MB(1%)  Iter   3   57.14%  Refine biparts\r",
      "00:00:00     24 MB(1%)  Iter   3   71.43%  Refine biparts\r",
      "00:00:00     24 MB(1%)  Iter   3   85.71%  Refine biparts\r",
      "00:00:00     24 MB(1%)  Iter   3  100.00%  Refine biparts\r",
      "00:00:00     24 MB(1%)  Iter   3  114.29%  Refine biparts\r",
      "00:00:00     24 MB(1%)  Iter   3  100.00%  Refine biparts\r\n",
      "\n"
     ]
    }
   ],
   "source": [
    "## view the stderr variable\n",
    "print(stderr.decode())"
   ]
  },
  {
   "cell_type": "markdown",
   "metadata": {},
   "source": [
    "### Another command line program: RAxML\n",
    "Another program we will test out is `raxml`, this is a CLI program for inferring phylogenetic trees from sequence alignments. Here we are going to write our first pipeline program by parsing the results of a `muscle` execution and then reformatting those results using Python before entering them into `raxml`. The fasta sequence alignment format can be seen above. In it, each sequence has a line for the name which starts with \">\" and then the following line has the sequence. Raxml also supporta a different sequence format called \"phylip\", in which the names and sequences are on the same line, and there is no \">\" at the beginning of names. Let's write a short converter to change from fasta to phylip.  "
   ]
  },
  {
   "cell_type": "code",
   "execution_count": 9,
   "metadata": {},
   "outputs": [
    {
     "data": {
      "text/plain": [
       "'>sample5\\nTTGGCCTATAGGCCTTTAGGCC--AAGGCCTTGACGCCTAAG\\n>sample3\\nAAGCCCTAAAGCCCTTAAGGCC--AAGGCCATAAGGCCGTGG\\n>sample4\\nAAGGCCTAAAGGCCTTAAGGCC--AAGGCCATAAGGCCGTCG\\n>sample1\\nAAGGCCTTAAGGCGTTAAAACCTTAAGGCCTTAAGGCCTT--\\n>sample2\\nAAGGCCTTTTGGCGTTAAAACCTTAAGGCCTAAAGGCCTT--\\n'"
      ]
     },
     "execution_count": 9,
     "metadata": {},
     "output_type": "execute_result"
    }
   ],
   "source": [
    "fasta_string = stdout.decode()\n",
    "fasta_string"
   ]
  },
  {
   "cell_type": "markdown",
   "metadata": {},
   "source": [
    "### converter\n",
    "Examine the fasta_string above and the code below to understand how it parses this string into phylip format. Run some of the split commands on the fasta_string separately to see how they split it. \n"
   ]
  },
  {
   "cell_type": "code",
   "execution_count": 10,
   "metadata": {},
   "outputs": [],
   "source": [
    "def fasta_to_phylip(fasta_string):\n",
    "    ntaxa = len(fasta_string.split(\">\")[1:])\n",
    "    seqlen = len(fasta_string.split(\"\\n\")[1])\n",
    "    seqs = [i.strip().replace(\"\\n\", \"   \") for i in fasta_string.split(\">\")[1:]]\n",
    "    seqstring = \"\\n\".join(seqs)\n",
    "    phylip = \"{} {}\\n{}\".format(ntaxa, seqlen, seqstring)\n",
    "    return phylip"
   ]
  },
  {
   "cell_type": "code",
   "execution_count": 11,
   "metadata": {},
   "outputs": [
    {
     "name": "stdout",
     "output_type": "stream",
     "text": [
      "5 42\n",
      "sample5   TTGGCCTATAGGCCTTTAGGCC--AAGGCCTTGACGCCTAAG\n",
      "sample3   AAGCCCTAAAGCCCTTAAGGCC--AAGGCCATAAGGCCGTGG\n",
      "sample4   AAGGCCTAAAGGCCTTAAGGCC--AAGGCCATAAGGCCGTCG\n",
      "sample1   AAGGCCTTAAGGCGTTAAAACCTTAAGGCCTTAAGGCCTT--\n",
      "sample2   AAGGCCTTTTGGCGTTAAAACCTTAAGGCCTAAAGGCCTT--\n"
     ]
    }
   ],
   "source": [
    "phylip_string = fasta_to_phylip(fasta_string)\n",
    "print(phylip_string)"
   ]
  },
  {
   "cell_type": "markdown",
   "metadata": {},
   "source": [
    "### Run raxml\n",
    "\n",
    "Raxml doesn't allow input through `stdin` so we will have to write the data to a file. All programs are written differently, so you often need to examine the documentation or help command to find out how the input and outputs are used. In addition, raxml writes it's log information to stdout instead of stderr. Again, this is just something that some developers do. Because the output is always written to a file for raxml it doesn't really matter whether the log is written to stderr or stdout. Here we use the required argument `-n` to give a name to the output file. If an output file with that name already exists then it will raise an error. \n",
    "\n",
    "\n",
    "The program raxml takes a lot of arguments which I won't describe for now, but these are the minimal number of arguments required to infer a tree using the algorithm designated. We will discuss some of the detail of phylogenetic inference in a later session. For now, its enough to know that the following program will take the aligned sequence data and infer the best phylogenetic tree based on the observed differences among sequences. "
   ]
  },
  {
   "cell_type": "code",
   "execution_count": 137,
   "metadata": {},
   "outputs": [],
   "source": [
    "## create the command string\n",
    "cmd = \"raxmlHPC -f a -m GTRGAMMA -p 123 -x 123 -N 10 -s aligned.phy -n out10\"\n",
    "proc = sps.Popen(shlex.split(cmd), stdout=sps.PIPE, stderr=sps.PIPE)\n",
    "\n",
    "## align the data and write alignment as a phylip file\n",
    "with open(\"aligned.phy\", 'w') as out:\n",
    "    out.write(phylip_string)\n",
    "\n",
    "## run the job\n",
    "stdout, stderr = proc.communicate()\n",
    "\n",
    "with open(\"out10\", 'w') as out:\n",
    "    out.write(stdout.decode())"
   ]
  },
  {
   "cell_type": "code",
   "execution_count": 138,
   "metadata": {},
   "outputs": [
    {
     "name": "stdout",
     "output_type": "stream",
     "text": [
      "RAxML output files with the run ID <out10> already exist \n",
      "in directory /rigel/home/apf2139/PDSB/repos/7-remote-subprocess/Notebooks/ ...... exiting\n",
      "\n"
     ]
    }
   ],
   "source": [
    "print(stdout.decode())"
   ]
  },
  {
   "cell_type": "code",
   "execution_count": 139,
   "metadata": {},
   "outputs": [
    {
     "name": "stdout",
     "output_type": "stream",
     "text": [
      "RAxML output files with the run ID <out10> already exist \n",
      "in directory /rigel/home/apf2139/PDSB/repos/7-remote-subprocess/Notebooks/ ...... exiting\n"
     ]
    }
   ],
   "source": [
    "%%bash\n",
    "cat out10"
   ]
  },
  {
   "cell_type": "markdown",
   "metadata": {},
   "source": [
    "### We could wrap this all into a Class object\n",
    "Finish writing the class object. Write it so that it can accomplish the following tasks: \n",
    "\n",
    "+ all of the attribute variables in `__init__` (e.g., self.aligned) are filled by functions called during the `.run()` function.\n",
    "+ the `_run_raxml()` function removes an existing output file with the same name if it exists.\n",
    "+ the `_run_raxml()` function modifies the command for raxml by replacing the argument `-n out` with `-n <outname>`, and then running it with subprocess and parsing the result.\n",
    "+ the `_run_raxml()` function parses the result from the raxml output file `RAxML_bestTree.<outname>` as a string and returns it."
   ]
  },
  {
   "cell_type": "code",
   "execution_count": 219,
   "metadata": {},
   "outputs": [],
   "source": [
    "import subprocess as sps\n",
    "import toytree\n",
    "import shlex\n",
    "import sys\n",
    "\n",
    "import glob \n",
    "#for removing raxml output files\n",
    "#https://stackoverflow.com/questions/11025784/calling-rm-from-subprocess-using-wildcards-does-not-remove-the-files"
   ]
  },
  {
   "cell_type": "code",
   "execution_count": 220,
   "metadata": {
    "scrolled": true
   },
   "outputs": [],
   "source": [
    "class Phylogeny:\n",
    "    def __init__(self, fasta_string):\n",
    "        ## store data\n",
    "        self.fasta = fasta_string\n",
    "        self.aligned = None\n",
    "        self.phylip = None\n",
    "        self.tree = None\n",
    "        self.log = None #what is this? stderr?\n",
    "        \n",
    "    # private functions\n",
    "    def _muscle_align(self):\n",
    "        proc = sps.Popen([\"muscle\"], stdin=sps.PIPE, stdout=sps.PIPE, stderr=sps.PIPE)\n",
    "        stdout, stderr = proc.communicate(input=self.fasta.encode())\n",
    "        return stdout.decode()\n",
    "    \n",
    "    def _aligned_fasta_to_phylip(self):\n",
    "        ntaxa = len(self.aligned.split(\">\")[1:])\n",
    "        seqlen = len(self.aligned.split(\"\\n\")[1])\n",
    "        seqs = [i.strip().replace(\"\\n\", \"   \") for i in self.aligned.split(\">\")[1:]]\n",
    "        seqstring = \"\\n\".join(seqs)\n",
    "        phylip = \"{} {}\\n{}\".format(ntaxa, seqlen, seqstring)\n",
    "        return phylip\n",
    "    \n",
    "    def _run_raxml(self, outname):\n",
    "        #remove existing outname\n",
    "        files = glob.glob(\"*\"+outname)\n",
    "        rmcmd = 'rm'\n",
    "        args = [rmcmd] + files\n",
    "        sps.Popen(args,  stdin=sps.PIPE, stdout=sps.PIPE, stderr=sps.PIPE)\n",
    "        \n",
    "        #run raxml\n",
    "        cmd = \"raxmlHPC -f a -m GTRGAMMA -p 123 -x 123 -N 10 -s aligned.phy -n {}\".format(outname)\n",
    "        proc = sps.Popen(shlex.split(cmd), stdout=sps.PIPE, stderr=sps.PIPE)\n",
    "        with open(\"aligned.phy\", 'w') as out:\n",
    "            out.write(self.phylip)\n",
    "        stdout, stderr = proc.communicate()\n",
    "        return(stdout.decode())\n",
    "                  \n",
    "    # public function\n",
    "    def run(self, outname):\n",
    "        self.aligned = self._muscle_align()\n",
    "        self.phylip = self._aligned_fasta_to_phylip()\n",
    "        self.tree = self._run_raxml(outname)"
   ]
  },
  {
   "cell_type": "markdown",
   "metadata": {},
   "source": [
    "### Test the code"
   ]
  },
  {
   "cell_type": "code",
   "execution_count": 221,
   "metadata": {
    "scrolled": false
   },
   "outputs": [
    {
     "name": "stdout",
     "output_type": "stream",
     "text": [
      "\n",
      "\n",
      "Using BFGS method to optimize GTR rate parameters, to disable this specify \"--no-bfgs\" \n",
      "\n",
      "\n",
      "\n",
      "This is RAxML version 8.2.10 released by Alexandros Stamatakis on March 2017.\n",
      "\n",
      "With greatly appreciated code contributions by:\n",
      "Andre Aberer      (HITS)\n",
      "Simon Berger      (HITS)\n",
      "Alexey Kozlov     (HITS)\n",
      "Kassian Kobert    (HITS)\n",
      "David Dao         (KIT and HITS)\n",
      "Sarah Lutteropp   (KIT and HITS)\n",
      "Nick Pattengale   (Sandia)\n",
      "Wayne Pfeiffer    (SDSC)\n",
      "Akifumi S. Tanabe (NRIFS)\n",
      "Charlie Taylor    (UF)\n",
      "\n",
      "\n",
      "Alignment has 20 distinct alignment patterns\n",
      "\n",
      "Proportion of gaps and completely undetermined characters in this alignment: 4.76%\n",
      "\n",
      "RAxML rapid bootstrapping and subsequent ML search\n",
      "\n",
      "Using 1 distinct models/data partitions with joint branch length optimization\n",
      "\n",
      "\n",
      "\n",
      "Executing 10 rapid bootstrap inferences and thereafter a thorough ML search \n",
      "\n",
      "All free model parameters will be estimated by RAxML\n",
      "GAMMA model of rate heterogeneity, ML estimate of alpha-parameter\n",
      "\n",
      "GAMMA Model parameters will be estimated up to an accuracy of 0.1000000000 Log Likelihood units\n",
      "\n",
      "Partition: 0\n",
      "Alignment Patterns: 20\n",
      "Name: No Name Provided\n",
      "DataType: DNA\n",
      "Substitution Matrix: GTR\n",
      "\n",
      "\n",
      "\n",
      "\n",
      "RAxML was called as follows:\n",
      "\n",
      "raxmlHPC -f a -m GTRGAMMA -p 123 -x 123 -N 10 -s aligned.phy -n test \n",
      "\n",
      "\n",
      "\n",
      "Time for BS model parameter optimization 0.003445\n",
      "Bootstrap[0]: Time 0.010015 seconds, bootstrap likelihood -135.692058, best rearrangement setting 5\n",
      "Bootstrap[1]: Time 0.001552 seconds, bootstrap likelihood -126.077637, best rearrangement setting 6\n",
      "Bootstrap[2]: Time 0.002312 seconds, bootstrap likelihood -139.914503, best rearrangement setting 7\n",
      "Bootstrap[3]: Time 0.007741 seconds, bootstrap likelihood -123.767774, best rearrangement setting 11\n",
      "Bootstrap[4]: Time 0.004460 seconds, bootstrap likelihood -114.845395, best rearrangement setting 15\n",
      "Bootstrap[5]: Time 0.005624 seconds, bootstrap likelihood -139.627095, best rearrangement setting 15\n",
      "Bootstrap[6]: Time 0.001259 seconds, bootstrap likelihood -107.263130, best rearrangement setting 5\n",
      "Bootstrap[7]: Time 0.001821 seconds, bootstrap likelihood -119.906028, best rearrangement setting 12\n",
      "Bootstrap[8]: Time 0.006438 seconds, bootstrap likelihood -110.357666, best rearrangement setting 11\n",
      "Bootstrap[9]: Time 0.003866 seconds, bootstrap likelihood -130.600417, best rearrangement setting 5\n",
      "\n",
      "\n",
      "Overall Time for 10 Rapid Bootstraps 0.050469 seconds\n",
      "Average Time per Rapid Bootstrap 0.005047 seconds\n",
      "\n",
      "Starting ML Search ...\n",
      "\n",
      "\n",
      "WARNING the alpha parameter with a value of 19.247847 estimated by RAxML for partition number 0 with the name \"No Name Provided\"\n",
      "is larger than 10.000000. You should do a model test and confirm that you actually need to incorporate a model of rate heterogeneity!\n",
      "You can run inferences with a plain substitution model (without rate heterogeneity) by specifyng the CAT model and the \"-V\" option!\n",
      "\n",
      "Fast ML optimization finished\n",
      "\n",
      "Fast ML search Time: 0.020315 seconds\n",
      "\n",
      "\n",
      "WARNING the alpha parameter with a value of 19.247847 estimated by RAxML for partition number 0 with the name \"No Name Provided\"\n",
      "is larger than 10.000000. You should do a model test and confirm that you actually need to incorporate a model of rate heterogeneity!\n",
      "You can run inferences with a plain substitution model (without rate heterogeneity) by specifyng the CAT model and the \"-V\" option!\n",
      "\n",
      "Slow ML Search 0 Likelihood: -130.700033\n",
      "Slow ML Search 1 Likelihood: -130.700033\n",
      "Slow ML optimization finished\n",
      "\n",
      "Slow ML search Time: 0.018613 seconds\n",
      "\n",
      "WARNING the alpha parameter with a value of 19.247847 estimated by RAxML for partition number 0 with the name \"No Name Provided\"\n",
      "is larger than 10.000000. You should do a model test and confirm that you actually need to incorporate a model of rate heterogeneity!\n",
      "You can run inferences with a plain substitution model (without rate heterogeneity) by specifyng the CAT model and the \"-V\" option!\n",
      "\n",
      "Thorough ML search Time: 0.014498 seconds\n",
      "\n",
      "Final ML Optimization Likelihood: -130.700033\n",
      "\n",
      "Model Information:\n",
      "\n",
      "Model Parameters of Partition 0, Name: No Name Provided, Type of Data: DNA\n",
      "alpha: 19.247847\n",
      "Tree-Length: 0.658185\n",
      "rate A <-> C: 0.000100\n",
      "rate A <-> G: 17.116464\n",
      "rate A <-> T: 67.200883\n",
      "rate C <-> G: 20.493389\n",
      "rate C <-> T: 0.000100\n",
      "rate G <-> T: 1.000000\n",
      "\n",
      "freq pi(A): 0.275000\n",
      "freq pi(C): 0.260000\n",
      "freq pi(G): 0.260000\n",
      "freq pi(T): 0.205000\n",
      "\n",
      "\n",
      "ML search took 0.055118 secs or 0.000015 hours\n",
      "\n",
      "Combined Bootstrap and ML search took 0.105665 secs or 0.000029 hours\n",
      "\n",
      "Drawing Bootstrap Support Values on best-scoring ML tree ...\n",
      "\n",
      "\n",
      "\n",
      "Found 1 tree in File /rigel/home/apf2139/PDSB/repos/7-remote-subprocess/Notebooks/RAxML_bestTree.test\n",
      "\n",
      "\n",
      "\n",
      "Found 1 tree in File /rigel/home/apf2139/PDSB/repos/7-remote-subprocess/Notebooks/RAxML_bestTree.test\n",
      "\n",
      "Program execution info written to /rigel/home/apf2139/PDSB/repos/7-remote-subprocess/Notebooks/RAxML_info.test\n",
      "All 10 bootstrapped trees written to: /rigel/home/apf2139/PDSB/repos/7-remote-subprocess/Notebooks/RAxML_bootstrap.test\n",
      "\n",
      "Best-scoring ML tree written to: /rigel/home/apf2139/PDSB/repos/7-remote-subprocess/Notebooks/RAxML_bestTree.test\n",
      "\n",
      "Best-scoring ML tree with support values written to: /rigel/home/apf2139/PDSB/repos/7-remote-subprocess/Notebooks/RAxML_bipartitions.test\n",
      "\n",
      "Best-scoring ML tree with support values as branch labels written to: /rigel/home/apf2139/PDSB/repos/7-remote-subprocess/Notebooks/RAxML_bipartitionsBranchLabels.test\n",
      "\n",
      "Overall execution time for full ML analysis: 0.106655 secs or 0.000030 hours or 0.000001 days\n",
      "\n",
      "\n"
     ]
    }
   ],
   "source": [
    "## run your code\n",
    "p = Phylogeny(fasta_string)\n",
    "outname = 'test'\n",
    "p.run(outname = outname)\n",
    "print(p.tree)"
   ]
  },
  {
   "cell_type": "code",
   "execution_count": 222,
   "metadata": {},
   "outputs": [
    {
     "name": "stdout",
     "output_type": "stream",
     "text": [
      "RAxML_bestTree.test\n"
     ]
    }
   ],
   "source": [
    "p.tree = \"RAxML_bestTree.{}\".format(outname)\n",
    "print(p.tree)"
   ]
  },
  {
   "cell_type": "code",
   "execution_count": 223,
   "metadata": {},
   "outputs": [
    {
     "data": {
      "text/html": [
       "<div class=\"toyplot\" id=\"ta1a2c8a3f7f847959caab4046ce0972d\" style=\"text-align:center\"><svg class=\"toyplot-canvas-Canvas\" height=\"275.0px\" id=\"ta6c66c51b101421ca93bc403e6d04f9b\" preserveAspectRatio=\"xMidYMid meet\" style=\"background-color:transparent;fill:rgb(16.1%,15.3%,14.1%);fill-opacity:1.0;font-family:Helvetica;font-size:12px;opacity:1.0;stroke:rgb(16.1%,15.3%,14.1%);stroke-opacity:1.0;stroke-width:1.0\" viewBox=\"0 0 300.0 275.0\" width=\"300.0px\" xmlns=\"http://www.w3.org/2000/svg\" xmlns:toyplot=\"http://www.sandia.gov/toyplot\" xmlns:xlink=\"http://www.w3.org/1999/xlink\"><g class=\"toyplot-coordinates-Cartesian\" id=\"t4b45466848434e11bf67b51653b00c51\"><clipPath id=\"t26df161208b9496588944dd223914fde\"><rect height=\"225.0\" width=\"250.0\" x=\"25.0\" y=\"25.0\"></rect></clipPath><g clip-path=\"url(#t26df161208b9496588944dd223914fde)\"><g class=\"toyplot-mark-Text\" id=\"taf8d0f51681e4a26b4e78e3be00c06a8\"><g class=\"toyplot-Series\"><g class=\"toyplot-Datum\" transform=\"translate(108.13568333473032,218.34741288278775)\"><text style=\"fill:rgb(16.1%,15.3%,14.1%);fill-opacity:1.0;font-family:helvetica;font-size:12.0px;font-weight:normal;opacity:1.0;stroke:none;vertical-align:baseline;white-space:pre\" x=\"15.0\" y=\"3.066\">sample4</text></g><g class=\"toyplot-Datum\" transform=\"translate(128.4612643031319,177.9237064413939)\"><text style=\"fill:rgb(16.1%,15.3%,14.1%);fill-opacity:1.0;font-family:helvetica;font-size:12.0px;font-weight:normal;opacity:1.0;stroke:none;vertical-align:baseline;white-space:pre\" x=\"15.0\" y=\"3.066\">sample3</text></g><g class=\"toyplot-Datum\" transform=\"translate(170.60944916595213,137.50000000000003)\"><text style=\"fill:rgb(16.1%,15.3%,14.1%);fill-opacity:1.0;font-family:helvetica;font-size:12.0px;font-weight:normal;opacity:1.0;stroke:none;vertical-align:baseline;white-space:pre\" x=\"15.0\" y=\"3.066\">sample2</text></g><g class=\"toyplot-Datum\" transform=\"translate(128.38041673172023,97.07629355860615)\"><text style=\"fill:rgb(16.1%,15.3%,14.1%);fill-opacity:1.0;font-family:helvetica;font-size:12.0px;font-weight:normal;opacity:1.0;stroke:none;vertical-align:baseline;white-space:pre\" x=\"15.0\" y=\"3.066\">sample1</text></g><g class=\"toyplot-Datum\" transform=\"translate(203.6405119301857,56.65258711721224)\"><text style=\"fill:rgb(16.1%,15.3%,14.1%);fill-opacity:1.0;font-family:helvetica;font-size:12.0px;font-weight:normal;opacity:1.0;stroke:none;vertical-align:baseline;white-space:pre\" x=\"15.0\" y=\"3.066\">sample5</text></g></g></g><g class=\"toyplot-mark-Graph\" id=\"t8b457e4fa65647f092e6e17477ba2a5b\"><g class=\"toyplot-Edges\"><path d=\"M 50.0 124.02543118620206 L 50.0 56.65258711721224\" style=\"fill:none;stroke:rgb(16.1%,15.3%,14.1%);stroke-linecap:round;stroke-opacity:1.0;stroke-width:2\"></path><path d=\"M 50.0 56.65258711721224 L 203.6405119301857 56.65258711721224\" style=\"fill:none;stroke:rgb(16.1%,15.3%,14.1%);stroke-linecap:round;stroke-opacity:1.0;stroke-width:2\"></path><path d=\"M 50.0 124.02543118620206 L 50.0 117.28814677930308\" style=\"fill:none;stroke:rgb(16.1%,15.3%,14.1%);stroke-linecap:round;stroke-opacity:1.0;stroke-width:2\"></path><path d=\"M 50.0 117.28814677930308 L 128.3798606455225 117.28814677930308\" style=\"fill:none;stroke:rgb(16.1%,15.3%,14.1%);stroke-linecap:round;stroke-opacity:1.0;stroke-width:2\"></path><path d=\"M 50.0 124.02543118620206 L 50.0 198.13555966209083\" style=\"fill:none;stroke:rgb(16.1%,15.3%,14.1%);stroke-linecap:round;stroke-opacity:1.0;stroke-width:2\"></path><path d=\"M 50.0 198.13555966209083 L 94.83991489425138 198.13555966209083\" style=\"fill:none;stroke:rgb(16.1%,15.3%,14.1%);stroke-linecap:round;stroke-opacity:1.0;stroke-width:2\"></path><path d=\"M 128.3798606455225 117.28814677930308 L 128.3798606455225 97.07629355860615\" style=\"fill:none;stroke:rgb(16.1%,15.3%,14.1%);stroke-linecap:round;stroke-opacity:1.0;stroke-width:2\"></path><path d=\"M 128.3798606455225 97.07629355860615 L 128.38041673172023 97.07629355860615\" style=\"fill:none;stroke:rgb(16.1%,15.3%,14.1%);stroke-linecap:round;stroke-opacity:1.0;stroke-width:2\"></path><path d=\"M 128.3798606455225 117.28814677930308 L 128.3798606455225 137.50000000000003\" style=\"fill:none;stroke:rgb(16.1%,15.3%,14.1%);stroke-linecap:round;stroke-opacity:1.0;stroke-width:2\"></path><path d=\"M 128.3798606455225 137.50000000000003 L 170.60944916595213 137.50000000000003\" style=\"fill:none;stroke:rgb(16.1%,15.3%,14.1%);stroke-linecap:round;stroke-opacity:1.0;stroke-width:2\"></path><path d=\"M 94.83991489425138 198.13555966209083 L 94.83991489425138 177.9237064413939\" style=\"fill:none;stroke:rgb(16.1%,15.3%,14.1%);stroke-linecap:round;stroke-opacity:1.0;stroke-width:2\"></path><path d=\"M 94.83991489425138 177.9237064413939 L 128.4612643031319 177.9237064413939\" style=\"fill:none;stroke:rgb(16.1%,15.3%,14.1%);stroke-linecap:round;stroke-opacity:1.0;stroke-width:2\"></path><path d=\"M 94.83991489425138 198.13555966209083 L 94.83991489425138 218.34741288278775\" style=\"fill:none;stroke:rgb(16.1%,15.3%,14.1%);stroke-linecap:round;stroke-opacity:1.0;stroke-width:2\"></path><path d=\"M 94.83991489425138 218.34741288278775 L 108.13568333473032 218.34741288278775\" style=\"fill:none;stroke:rgb(16.1%,15.3%,14.1%);stroke-linecap:round;stroke-opacity:1.0;stroke-width:2\"></path><g class=\"toyplot-HeadMarkers\"></g><g class=\"toyplot-MiddleMarkers\"></g><g class=\"toyplot-TailMarkers\"></g></g><g class=\"toyplot-Vertices\"><g class=\"toyplot-Datum\" style=\"fill:rgb(40%,76.1%,64.7%);fill-opacity:1.0;opacity:1.0;stroke:rgb(40%,76.1%,64.7%);stroke-opacity:1.0\" transform=\"translate(50.0, 124.02543118620206)\"><circle r=\"0.0\"></circle></g><g class=\"toyplot-Datum\" style=\"fill:rgb(40%,76.1%,64.7%);fill-opacity:1.0;opacity:1.0;stroke:rgb(40%,76.1%,64.7%);stroke-opacity:1.0\" transform=\"translate(50.0, 56.65258711721224)\"><circle r=\"0.0\"></circle></g><g class=\"toyplot-Datum\" style=\"fill:rgb(40%,76.1%,64.7%);fill-opacity:1.0;opacity:1.0;stroke:rgb(40%,76.1%,64.7%);stroke-opacity:1.0\" transform=\"translate(203.6405119301857, 56.65258711721224)\"><circle r=\"0.0\"></circle></g><g class=\"toyplot-Datum\" style=\"fill:rgb(40%,76.1%,64.7%);fill-opacity:1.0;opacity:1.0;stroke:rgb(40%,76.1%,64.7%);stroke-opacity:1.0\" transform=\"translate(50.0, 117.28814677930308)\"><circle r=\"0.0\"></circle></g><g class=\"toyplot-Datum\" style=\"fill:rgb(40%,76.1%,64.7%);fill-opacity:1.0;opacity:1.0;stroke:rgb(40%,76.1%,64.7%);stroke-opacity:1.0\" transform=\"translate(128.3798606455225, 117.28814677930308)\"><circle r=\"0.0\"></circle></g><g class=\"toyplot-Datum\" style=\"fill:rgb(40%,76.1%,64.7%);fill-opacity:1.0;opacity:1.0;stroke:rgb(40%,76.1%,64.7%);stroke-opacity:1.0\" transform=\"translate(50.0, 198.13555966209083)\"><circle r=\"0.0\"></circle></g><g class=\"toyplot-Datum\" style=\"fill:rgb(40%,76.1%,64.7%);fill-opacity:1.0;opacity:1.0;stroke:rgb(40%,76.1%,64.7%);stroke-opacity:1.0\" transform=\"translate(94.83991489425138, 198.13555966209083)\"><circle r=\"0.0\"></circle></g><g class=\"toyplot-Datum\" style=\"fill:rgb(40%,76.1%,64.7%);fill-opacity:1.0;opacity:1.0;stroke:rgb(40%,76.1%,64.7%);stroke-opacity:1.0\" transform=\"translate(128.3798606455225, 117.28814677930308)\"><circle r=\"0.0\"></circle></g><g class=\"toyplot-Datum\" style=\"fill:rgb(40%,76.1%,64.7%);fill-opacity:1.0;opacity:1.0;stroke:rgb(40%,76.1%,64.7%);stroke-opacity:1.0\" transform=\"translate(128.3798606455225, 97.07629355860615)\"><circle r=\"0.0\"></circle></g><g class=\"toyplot-Datum\" style=\"fill:rgb(40%,76.1%,64.7%);fill-opacity:1.0;opacity:1.0;stroke:rgb(40%,76.1%,64.7%);stroke-opacity:1.0\" transform=\"translate(128.38041673172023, 97.07629355860615)\"><circle r=\"0.0\"></circle></g><g class=\"toyplot-Datum\" style=\"fill:rgb(40%,76.1%,64.7%);fill-opacity:1.0;opacity:1.0;stroke:rgb(40%,76.1%,64.7%);stroke-opacity:1.0\" transform=\"translate(128.3798606455225, 137.50000000000003)\"><circle r=\"0.0\"></circle></g><g class=\"toyplot-Datum\" style=\"fill:rgb(40%,76.1%,64.7%);fill-opacity:1.0;opacity:1.0;stroke:rgb(40%,76.1%,64.7%);stroke-opacity:1.0\" transform=\"translate(170.60944916595213, 137.50000000000003)\"><circle r=\"0.0\"></circle></g><g class=\"toyplot-Datum\" style=\"fill:rgb(40%,76.1%,64.7%);fill-opacity:1.0;opacity:1.0;stroke:rgb(40%,76.1%,64.7%);stroke-opacity:1.0\" transform=\"translate(94.83991489425138, 198.13555966209083)\"><circle r=\"0.0\"></circle></g><g class=\"toyplot-Datum\" style=\"fill:rgb(40%,76.1%,64.7%);fill-opacity:1.0;opacity:1.0;stroke:rgb(40%,76.1%,64.7%);stroke-opacity:1.0\" transform=\"translate(94.83991489425138, 177.9237064413939)\"><circle r=\"0.0\"></circle></g><g class=\"toyplot-Datum\" style=\"fill:rgb(40%,76.1%,64.7%);fill-opacity:1.0;opacity:1.0;stroke:rgb(40%,76.1%,64.7%);stroke-opacity:1.0\" transform=\"translate(128.4612643031319, 177.9237064413939)\"><circle r=\"0.0\"></circle></g><g class=\"toyplot-Datum\" style=\"fill:rgb(40%,76.1%,64.7%);fill-opacity:1.0;opacity:1.0;stroke:rgb(40%,76.1%,64.7%);stroke-opacity:1.0\" transform=\"translate(94.83991489425138, 218.34741288278775)\"><circle r=\"0.0\"></circle></g><g class=\"toyplot-Datum\" style=\"fill:rgb(40%,76.1%,64.7%);fill-opacity:1.0;opacity:1.0;stroke:rgb(40%,76.1%,64.7%);stroke-opacity:1.0\" transform=\"translate(108.13568333473032, 218.34741288278775)\"><circle r=\"0.0\"></circle></g></g></g></g></g></svg><div class=\"toyplot-behavior\"><script>(function()\n",
       "{\n",
       "var modules={};\n",
       "modules[\"toyplot/tables\"] = (function()\n",
       "    {\n",
       "        var tables = [];\n",
       "\n",
       "        var module = {};\n",
       "\n",
       "        module.set = function(owner, key, names, columns)\n",
       "        {\n",
       "            tables.push({owner: owner, key: key, names: names, columns: columns});\n",
       "        }\n",
       "\n",
       "        module.get = function(owner, key)\n",
       "        {\n",
       "            for(var i = 0; i != tables.length; ++i)\n",
       "            {\n",
       "                var table = tables[i];\n",
       "                if(table.owner != owner)\n",
       "                    continue;\n",
       "                if(table.key != key)\n",
       "                    continue;\n",
       "                return {names: table.names, columns: table.columns};\n",
       "            }\n",
       "        }\n",
       "\n",
       "        module.get_csv = function(owner, key)\n",
       "        {\n",
       "            var table = module.get(owner, key);\n",
       "            if(table != undefined)\n",
       "            {\n",
       "                var csv = \"\";\n",
       "                csv += table.names.join(\",\") + \"\\n\";\n",
       "                for(var i = 0; i != table.columns[0].length; ++i)\n",
       "                {\n",
       "                  for(var j = 0; j != table.columns.length; ++j)\n",
       "                  {\n",
       "                    if(j)\n",
       "                      csv += \",\";\n",
       "                    csv += table.columns[j][i];\n",
       "                  }\n",
       "                  csv += \"\\n\";\n",
       "                }\n",
       "                return csv;\n",
       "            }\n",
       "        }\n",
       "\n",
       "        return module;\n",
       "    })();\n",
       "modules[\"toyplot/root/id\"] = \"ta1a2c8a3f7f847959caab4046ce0972d\";\n",
       "modules[\"toyplot/root\"] = (function(root_id)\n",
       "    {\n",
       "        return document.querySelector(\"#\" + root_id);\n",
       "    })(modules[\"toyplot/root/id\"]);\n",
       "modules[\"toyplot/canvas/id\"] = \"ta6c66c51b101421ca93bc403e6d04f9b\";\n",
       "modules[\"toyplot/canvas\"] = (function(canvas_id)\n",
       "    {\n",
       "        return document.querySelector(\"#\" + canvas_id);\n",
       "    })(modules[\"toyplot/canvas/id\"]);\n",
       "modules[\"toyplot/menus/context\"] = (function(root, canvas)\n",
       "    {\n",
       "        var wrapper = document.createElement(\"div\");\n",
       "        wrapper.innerHTML = \"<ul class='toyplot-context-menu' style='background:#eee; border:1px solid #b8b8b8; border-radius:5px; box-shadow: 0px 0px 8px rgba(0%,0%,0%,0.25); margin:0; padding:3px 0; position:fixed; visibility:hidden;'></ul>\"\n",
       "        var menu = wrapper.firstChild;\n",
       "\n",
       "        root.appendChild(menu);\n",
       "\n",
       "        var items = [];\n",
       "\n",
       "        var ignore_mouseup = null;\n",
       "        function open_menu(e)\n",
       "        {\n",
       "            var show_menu = false;\n",
       "            for(var index=0; index != items.length; ++index)\n",
       "            {\n",
       "                var item = items[index];\n",
       "                if(item.show(e))\n",
       "                {\n",
       "                    item.item.style.display = \"block\";\n",
       "                    show_menu = true;\n",
       "                }\n",
       "                else\n",
       "                {\n",
       "                    item.item.style.display = \"none\";\n",
       "                }\n",
       "            }\n",
       "\n",
       "            if(show_menu)\n",
       "            {\n",
       "                ignore_mouseup = true;\n",
       "                menu.style.left = (e.clientX + 1) + \"px\";\n",
       "                menu.style.top = (e.clientY - 5) + \"px\";\n",
       "                menu.style.visibility = \"visible\";\n",
       "                e.stopPropagation();\n",
       "                e.preventDefault();\n",
       "            }\n",
       "        }\n",
       "\n",
       "        function close_menu()\n",
       "        {\n",
       "            menu.style.visibility = \"hidden\";\n",
       "        }\n",
       "\n",
       "        function contextmenu(e)\n",
       "        {\n",
       "            open_menu(e);\n",
       "        }\n",
       "\n",
       "        function mousemove(e)\n",
       "        {\n",
       "            ignore_mouseup = false;\n",
       "        }\n",
       "\n",
       "        function mouseup(e)\n",
       "        {\n",
       "            if(ignore_mouseup)\n",
       "            {\n",
       "                ignore_mouseup = false;\n",
       "                return;\n",
       "            }\n",
       "            close_menu();\n",
       "        }\n",
       "\n",
       "        function keydown(e)\n",
       "        {\n",
       "            if(e.key == \"Escape\" || e.key == \"Esc\" || e.keyCode == 27)\n",
       "            {\n",
       "                close_menu();\n",
       "            }\n",
       "        }\n",
       "\n",
       "        canvas.addEventListener(\"contextmenu\", contextmenu);\n",
       "        canvas.addEventListener(\"mousemove\", mousemove);\n",
       "        document.addEventListener(\"mouseup\", mouseup);\n",
       "        document.addEventListener(\"keydown\", keydown);\n",
       "\n",
       "        var module = {};\n",
       "        module.add_item = function(label, show, activate)\n",
       "        {\n",
       "            var wrapper = document.createElement(\"div\");\n",
       "            wrapper.innerHTML = \"<li class='toyplot-context-menu-item' style='background:#eee; color:#333; padding:2px 20px; list-style:none; margin:0; text-align:left;'>\" + label + \"</li>\"\n",
       "            var item = wrapper.firstChild;\n",
       "\n",
       "            items.push({item: item, show: show});\n",
       "\n",
       "            function mouseover()\n",
       "            {\n",
       "                this.style.background = \"steelblue\";\n",
       "                this.style.color = \"white\";\n",
       "            }\n",
       "\n",
       "            function mouseout()\n",
       "            {\n",
       "                this.style.background = \"#eee\";\n",
       "                this.style.color = \"#333\";\n",
       "            }\n",
       "\n",
       "            function choose_item(e)\n",
       "            {\n",
       "                close_menu();\n",
       "                activate();\n",
       "\n",
       "                e.stopPropagation();\n",
       "                e.preventDefault();\n",
       "            }\n",
       "\n",
       "            item.addEventListener(\"mouseover\", mouseover);\n",
       "            item.addEventListener(\"mouseout\", mouseout);\n",
       "            item.addEventListener(\"mouseup\", choose_item);\n",
       "            item.addEventListener(\"contextmenu\", choose_item);\n",
       "\n",
       "            menu.appendChild(item);\n",
       "        };\n",
       "        return module;\n",
       "    })(modules[\"toyplot/root\"],modules[\"toyplot/canvas\"]);\n",
       "modules[\"toyplot/io\"] = (function()\n",
       "    {\n",
       "        var module = {};\n",
       "        module.save_file = function(mime_type, charset, data, filename)\n",
       "        {\n",
       "            var uri = \"data:\" + mime_type + \";charset=\" + charset + \",\" + data;\n",
       "            uri = encodeURI(uri);\n",
       "\n",
       "            var link = document.createElement(\"a\");\n",
       "            if(typeof link.download != \"undefined\")\n",
       "            {\n",
       "              link.href = uri;\n",
       "              link.style = \"visibility:hidden\";\n",
       "              link.download = filename;\n",
       "\n",
       "              document.body.appendChild(link);\n",
       "              link.click();\n",
       "              document.body.removeChild(link);\n",
       "            }\n",
       "            else\n",
       "            {\n",
       "              window.open(uri);\n",
       "            }\n",
       "        };\n",
       "        return module;\n",
       "    })();\n",
       "(function(tables, context_menu, io, owner_id, key, label, names, columns, filename)\n",
       "        {\n",
       "            tables.set(owner_id, key, names, columns);\n",
       "\n",
       "            var owner = document.querySelector(\"#\" + owner_id);\n",
       "            function show_item(e)\n",
       "            {\n",
       "                return owner.contains(e.target);\n",
       "            }\n",
       "\n",
       "            function choose_item()\n",
       "            {\n",
       "                io.save_file(\"text/csv\", \"utf-8\", tables.get_csv(owner_id, key), filename + \".csv\");\n",
       "            }\n",
       "\n",
       "            context_menu.add_item(\"Save \" + label + \" as CSV\", show_item, choose_item);\n",
       "        })(modules[\"toyplot/tables\"],modules[\"toyplot/menus/context\"],modules[\"toyplot/io\"],\"t8b457e4fa65647f092e6e17477ba2a5b\",\"vertex_data\",\"graph vertex data\",[\"x\", \"y\"],[[-0.27628916053662084, -0.27628916053662084, 0.0, -0.27628916053662084, -0.13533996928054767, -0.27628916053662084, -0.1956542922390217, -0.13533996928054767, -0.13533996928054767, -0.13533896928004766, -0.13533996928054767, -0.05939920720200054, -0.1956542922390217, -0.1956542922390217, -0.1351935824458323, -0.1956542922390217, -0.1717447344345121], [2.3333333333333335, 4.0, 4.0, 2.5, 2.5, 0.5, 0.5, 2.5, 3.0, 3.0, 2.0, 2.0, 0.5, 1.0, 1.0, 0.0, 0.0]],\"toyplot\");\n",
       "(function(tables, context_menu, io, owner_id, key, label, names, columns, filename)\n",
       "        {\n",
       "            tables.set(owner_id, key, names, columns);\n",
       "\n",
       "            var owner = document.querySelector(\"#\" + owner_id);\n",
       "            function show_item(e)\n",
       "            {\n",
       "                return owner.contains(e.target);\n",
       "            }\n",
       "\n",
       "            function choose_item()\n",
       "            {\n",
       "                io.save_file(\"text/csv\", \"utf-8\", tables.get_csv(owner_id, key), filename + \".csv\");\n",
       "            }\n",
       "\n",
       "            context_menu.add_item(\"Save \" + label + \" as CSV\", show_item, choose_item);\n",
       "        })(modules[\"toyplot/tables\"],modules[\"toyplot/menus/context\"],modules[\"toyplot/io\"],\"t8b457e4fa65647f092e6e17477ba2a5b\",\"edge_data\",\"graph edge data\",[\"source\", \"target\"],[[0, 1, 0, 3, 0, 5, 7, 8, 7, 10, 12, 13, 12, 15], [1, 2, 3, 4, 5, 6, 8, 9, 10, 11, 13, 14, 15, 16]],\"toyplot\");\n",
       "})();</script></div></div>"
      ]
     },
     "metadata": {},
     "output_type": "display_data"
    }
   ],
   "source": [
    "## plot the tree\n",
    "p.tree = \"RAxML_bestTree.{}\".format(outname)\n",
    "tree = toytree.tree(p.tree)\n",
    "tree.draw(width=300);"
   ]
  }
 ],
 "metadata": {
  "kernelspec": {
   "display_name": "Python 3",
   "language": "python",
   "name": "python3"
  },
  "language_info": {
   "codemirror_mode": {
    "name": "ipython",
    "version": 3
   },
   "file_extension": ".py",
   "mimetype": "text/x-python",
   "name": "python",
   "nbconvert_exporter": "python",
   "pygments_lexer": "ipython3",
   "version": "3.6.4"
  }
 },
 "nbformat": 4,
 "nbformat_minor": 2
}
