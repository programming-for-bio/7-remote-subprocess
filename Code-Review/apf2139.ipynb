{
 "cells": [
  {
   "cell_type": "markdown",
   "metadata": {},
   "source": [
    "# The subprocess package\n",
    "\n",
    "The subprocess package is part of the Python standard library, however, it has changed significantly between Python2 and Python3, so we will cover some of the Py3 specific code, but mostly run code that is compatible between both, since you will see the Py2 examples in other peoples code. The following link is the official Python documentation for subprocess. It is bit dense, but has extra information for troubleshooting https://docs.python.org/3/library/subprocess.html."
   ]
  },
  {
   "cell_type": "markdown",
   "metadata": {},
   "source": [
    "### Note for windows users\n",
    "This notebook cannot be run on windows because it requires installing external software that is not available for windows (e.g., the programs `muscle` and `raxml`). However, you can run this notebook on the Habanero cluster by starting the notebook there. See instructions in notebook `nb-7.3-tunneling` to set this up. "
   ]
  },
  {
   "cell_type": "markdown",
   "metadata": {},
   "source": [
    "### Requried software\n",
    "The following packages are required for this notebook. Install with conda and restart the notebook."
   ]
  },
  {
   "cell_type": "code",
   "execution_count": 42,
   "metadata": {},
   "outputs": [],
   "source": [
    "# conda install raxml -c bioconda\n",
    "# conda install muscle -c bioconda\n",
    "# conda install toytree -c eaton-lab"
   ]
  },
  {
   "cell_type": "code",
   "execution_count": 43,
   "metadata": {},
   "outputs": [],
   "source": [
    "import subprocess as sps\n",
    "import toytree\n",
    "import shlex\n",
    "import sys"
   ]
  },
  {
   "cell_type": "markdown",
   "metadata": {},
   "source": [
    "### What does subprocess do?\n",
    "\n",
    "The subprocess module can be used to call bash commands or other shell scripts using pure Python code. In other words, under the hood when you run subprocess it opens up a terminal, runs your command, and returns the result as a string of text along with any accompanying error messages. "
   ]
  },
  {
   "cell_type": "markdown",
   "metadata": {},
   "source": [
    "### Why use subprocess?\n",
    "One of the most powerful uses of Python is in creating **pipelines** programs, a program that calls other programs (sometimes many of them) and returns nicely formatted results. Python is really nice for this because it is such a good language for parsing text files (results), and because it is easily readable. Thus you can write a Python program that works as a pipeline to run a very complex bash script and format it to be easily readable and executable in Python. Below is a simple example that calls `ls -l` to list the files in our current directory. We'll explain the functions in greater detail soon. \n"
   ]
  },
  {
   "cell_type": "code",
   "execution_count": 44,
   "metadata": {},
   "outputs": [],
   "source": [
    "## write a bash command as a list arg and execute it using .communicate()\n",
    "process = sps.Popen([\"ls\", \"-l\"], stdout=sps.PIPE)  \n",
    "stdout, stderr = process.communicate()             "
   ]
  },
  {
   "cell_type": "code",
   "execution_count": 45,
   "metadata": {},
   "outputs": [
    {
     "name": "stdout",
     "output_type": "stream",
     "text": [
      "total 384\n",
      "-rw-r--r-- 1 apf2139 user   260 Mar 11 14:32 aligned.fa\n",
      "-rw-r--r-- 1 apf2139 user   269 Mar 11 14:32 aligned.phy\n",
      "-rw-r--r-- 1 apf2139 user 44180 Mar 11 14:33 apf2139.ipynb\n",
      "-rw-r--r-- 1 apf2139 user   250 Mar 11 14:32 example.fa\n",
      "-rw-r--r-- 1 apf2139 user    82 Mar 11 14:32 filestderr\n",
      "-rw-r--r-- 1 apf2139 user     6 Mar 11 14:32 filestdout\n",
      "-rw-r--r-- 1 apf2139 user 64539 Mar 11 13:51 jessicahoch.ipynb\n",
      "-rw-r--r-- 1 apf2139 user 70999 Mar 11 13:51 kuratanp.ipynb\n",
      "-rw-r--r-- 1 apf2139 user   212 Mar 11 14:32 RAxML_bestTree.out10\n",
      "-rw-r--r-- 1 apf2139 user   216 Mar 11 14:32 RAxML_bipartitionsBranchLabels.out10\n",
      "-rw-r--r-- 1 apf2139 user   212 Mar 11 14:32 RAxML_bipartitions.out10\n",
      "-rw-r--r-- 1 apf2139 user   470 Mar 11 14:32 RAxML_bootstrap.out10\n",
      "-rw-r--r-- 1 apf2139 user  5464 Mar 11 14:32 RAxML_info.out10\n",
      "-rw-r--r-- 1 apf2139 user 12026 Mar 11 13:51 README.md\n",
      "-rw-r--r-- 1 apf2139 user 82555 Mar 11 13:51 vjjan91.ipynb\n",
      "\n"
     ]
    }
   ],
   "source": [
    "## stdout is the returned result, here decoded from bytes to string encoding\n",
    "print(stdout.decode())                              "
   ]
  },
  {
   "cell_type": "code",
   "execution_count": 46,
   "metadata": {},
   "outputs": [
    {
     "data": {
      "text/plain": [
       "0"
      ]
     },
     "execution_count": 46,
     "metadata": {},
     "output_type": "execute_result"
    }
   ],
   "source": [
    "## check for errors; returncode 0 = no error; > 0 is some kind of error\n",
    "process.returncode                     "
   ]
  },
  {
   "cell_type": "code",
   "execution_count": 47,
   "metadata": {},
   "outputs": [
    {
     "data": {
      "text/plain": [
       "['ls', '-l']"
      ]
     },
     "execution_count": 47,
     "metadata": {},
     "output_type": "execute_result"
    }
   ],
   "source": [
    "## ask what was the command again?\n",
    "process.args  "
   ]
  },
  {
   "cell_type": "markdown",
   "metadata": {},
   "source": [
    "### Blocking and asynchronous execution\n",
    "When you send a subprocess to be run it is actually being executed on a separate thread from the one that is running Python. In essence, you are running *parallel code* when you run a subprocess. We'll talk much more about parallel code in later weeks. But this is our first introduction to the idea. The simplest code for running subprocess is to use the function `.communicate()` which will **block** your Python code from being able to execute any more commands until the subprocess is finished. This can be useful if your next piece of code depends on the results of the subprocess. However, other times we might be interested in doing something else while the subprocess is running, in that case we will run *asynchronous* code, meaning that we can continue calling Python code and query the code the object to ask whether it is finished or not. Below are examples of both. "
   ]
  },
  {
   "cell_type": "code",
   "execution_count": 48,
   "metadata": {},
   "outputs": [],
   "source": [
    "## send a job to run that takes 10 seonds, communicate() blocks until finished\n",
    "proc = sps.Popen([\"sleep\", \"10\"])\n",
    "stdout, stderr = proc.communicate()"
   ]
  },
  {
   "cell_type": "code",
   "execution_count": 49,
   "metadata": {},
   "outputs": [],
   "source": [
    "## send a job to run but don't block, we'll query in the next cell whether it's ready\n",
    "proc = sps.Popen([\"sleep\", \"10\"])\n"
   ]
  },
  {
   "cell_type": "code",
   "execution_count": 50,
   "metadata": {},
   "outputs": [],
   "source": [
    "## does not block; asks whether proc is ready; when finished it returns the returncode\n",
    "## execute this several times until you see a result returned.\n",
    "proc.poll()"
   ]
  },
  {
   "cell_type": "markdown",
   "metadata": {},
   "source": [
    "### Asynchronous execution\n",
    "In the code below we use the Python library time to call the same type of `sleep` function that is being called in the subprocess using the `sleep` bash program. Here we use a while loop to continue executing Python code until the subprocess is finished. We use `.poll()` to query whether it is finished, and if it is then we call `break` to exit the while loop. If it is not finished then we tell the code to wait two seconds and print a short message. This is an easy way to create something like a progress bar for a program. "
   ]
  },
  {
   "cell_type": "code",
   "execution_count": 51,
   "metadata": {},
   "outputs": [
    {
     "name": "stdout",
     "output_type": "stream",
     "text": [
      "waiting two seconds\n",
      "waiting two seconds\n",
      "waiting two seconds\n",
      "waiting two seconds\n",
      "done\n"
     ]
    }
   ],
   "source": [
    "import time\n",
    "\n",
    "## send a job to run for 10 seconds\n",
    "process = sps.Popen([\"sleep\", \"10\"])\n",
    "\n",
    "## while statement means keep looping \n",
    "while 1:\n",
    "    ## break exits the 'while' loop\n",
    "    if process.poll() == 0:\n",
    "        print(\"done\")\n",
    "        break\n",
    "        \n",
    "    ## not finished, print, sleep, and continue looping\n",
    "    else:\n",
    "        print(\"waiting two seconds\")\n",
    "        time.sleep(2)   "
   ]
  },
  {
   "cell_type": "markdown",
   "metadata": {},
   "source": [
    "### stdout, stdin, and stderr\n",
    "In our first session we touched briefly on the concepts of `stdin`, `stdout`, and `stderr` as they relate to some of the bash commands that we learned. But now we'll talk about them in more detail. These three terms refer to three distinct communication channels that programs uses to communicate. It is a standardized format that has been around since the early days of Unix.\n",
    "\n",
    "The short description of these three channels is that `stdin` is the stream of data that is *entered in* to the program, whereas `stderr` and `stdout` are two channels that are returned as output from the program. Typically (though not always) `stdout` will contain results and `stderr` will be reserved for error messages. "
   ]
  },
  {
   "cell_type": "markdown",
   "metadata": {},
   "source": [
    "### stdout, stdin, and stderr in bash \n",
    "Below are some examples using `stdin`, `stdout`, or `stderr` differently in common bash scripts. Because the cell below has a `\"%%bash\"` header in it the code is executed as bash code instead of as IPython code. In bash these three channels can also be referred by the numbers 0, 1, and 2, respectively. Below I use the convention `1>` and `2>` to write to stdout and stderr. "
   ]
  },
  {
   "cell_type": "code",
   "execution_count": 52,
   "metadata": {},
   "outputs": [
    {
     "name": "stdout",
     "output_type": "stream",
     "text": [
      "hello world\n"
     ]
    }
   ],
   "source": [
    "%%bash\n",
    "## by default an echo statement returns stdout & stderr \n",
    "echo \"hello world\""
   ]
  },
  {
   "cell_type": "code",
   "execution_count": 53,
   "metadata": {},
   "outputs": [
    {
     "name": "stdout",
     "output_type": "stream",
     "text": [
      "hello world\n"
     ]
    }
   ],
   "source": [
    "%%bash\n",
    "## similarly, writing to a file combines stdout & stderr\n",
    "echo \"hello world\" > filestdout\n",
    "cat filestdout"
   ]
  },
  {
   "cell_type": "code",
   "execution_count": 54,
   "metadata": {},
   "outputs": [
    {
     "name": "stdout",
     "output_type": "stream",
     "text": [
      "hello\n"
     ]
    }
   ],
   "source": [
    "%%bash\n",
    "## explicitly write only stdout to a file\n",
    "echo \"hello world\" | cut -b 1-5 1> filestdout\n",
    "cat filestdout"
   ]
  },
  {
   "cell_type": "code",
   "execution_count": 55,
   "metadata": {},
   "outputs": [
    {
     "name": "stdout",
     "output_type": "stream",
     "text": [
      "cut: invalid byte, character or field list\n",
      "Try 'cut --help' for more information.\n"
     ]
    }
   ],
   "source": [
    "%%bash\n",
    "## this command is invalid (has : instead of -) and raises an error\n",
    "## which we write to filestderr. cat reads the file and prints it to stdout.\n",
    "echo \"hello world\" | cut -b 1:5 2> filestderr\n",
    "cat filestderr"
   ]
  },
  {
   "cell_type": "markdown",
   "metadata": {},
   "source": [
    "### stdin, stdout, and stderr in Python "
   ]
  },
  {
   "cell_type": "markdown",
   "metadata": {},
   "source": [
    "The `sys` module can be used to print separately to stdout and stderr in Python. This can be done using the `write()` command from `sys` or by adding it as an argument to the print function (Python3 only). "
   ]
  },
  {
   "cell_type": "code",
   "execution_count": 56,
   "metadata": {},
   "outputs": [
    {
     "name": "stdout",
     "output_type": "stream",
     "text": [
      "hello"
     ]
    }
   ],
   "source": [
    "sys.stdout.write(\"hello\")"
   ]
  },
  {
   "cell_type": "code",
   "execution_count": 57,
   "metadata": {},
   "outputs": [
    {
     "name": "stderr",
     "output_type": "stream",
     "text": [
      "hello"
     ]
    }
   ],
   "source": [
    "sys.stderr.write(\"hello\")"
   ]
  },
  {
   "cell_type": "code",
   "execution_count": 58,
   "metadata": {},
   "outputs": [
    {
     "name": "stdout",
     "output_type": "stream",
     "text": [
      "hello\n"
     ]
    }
   ],
   "source": [
    "print(\"hello\", file=sys.stdout)"
   ]
  },
  {
   "cell_type": "code",
   "execution_count": 59,
   "metadata": {},
   "outputs": [
    {
     "name": "stderr",
     "output_type": "stream",
     "text": [
      "hello\n"
     ]
    }
   ],
   "source": [
    "print(\"hello\", file=sys.stderr)"
   ]
  },
  {
   "cell_type": "markdown",
   "metadata": {},
   "source": [
    "### Splitting a command line string into a list\n",
    "\n",
    "The `shlex` library provides a convenient argument for splitting command strings into a list for use in subprocess. It differs in a few ways from the standard `split` command that can be used on strings, such as by recognizing when a space is part of a file name. We'll use it convert command line arguments to lists that can be entered to `subprocess`. "
   ]
  },
  {
   "cell_type": "code",
   "execution_count": 60,
   "metadata": {},
   "outputs": [
    {
     "data": {
      "text/plain": [
       "['cat', 'my file name with spaces in it']"
      ]
     },
     "execution_count": 60,
     "metadata": {},
     "output_type": "execute_result"
    }
   ],
   "source": [
    "cmd = \"cat my\\ file\\ name\\ with\\ spaces\\ in\\ it\"\n",
    "shlex.split(cmd)"
   ]
  },
  {
   "cell_type": "code",
   "execution_count": 61,
   "metadata": {
    "scrolled": true
   },
   "outputs": [
    {
     "data": {
      "text/plain": [
       "['cat', 'my', 'file', 'name', 'with', 'spaces', 'in', 'it']"
      ]
     },
     "execution_count": 61,
     "metadata": {},
     "output_type": "execute_result"
    }
   ],
   "source": [
    "cmd = \"cat my file name with spaces in it\"\n",
    "shlex.split(cmd)"
   ]
  },
  {
   "cell_type": "markdown",
   "metadata": {},
   "source": [
    "### Calling a single command and parsing its result\n",
    "\n",
    "The `Popen` class of subprocess is the most flexible way to call other programs, although there are a few other ways as well that you can find in the documentation. It takes as a required argument list of commands where each element in the list is a separate part of an argument that would normally be separated by a space in the command line string. The example below splits `\"ls -l\"` into `[\"ls\", \"-l\"]`. It can then take additional arguments that tell it how to redirect the stdin, stderr, and stdout. These are important for directing output either to files, or to be parsed as a string directly. As you will see below we can pipe together multiple commands by using the special value `PIPE` to connect multiple subprocess commands. "
   ]
  },
  {
   "cell_type": "code",
   "execution_count": 62,
   "metadata": {},
   "outputs": [],
   "source": [
    "cmd = \"ls -l\"\n",
    "cmdlist = shlex.split(cmd)\n",
    "proc = sps.Popen(cmdlist, stdout=sps.PIPE)\n",
    "stdout, stderr = proc.communicate()"
   ]
  },
  {
   "cell_type": "code",
   "execution_count": 63,
   "metadata": {},
   "outputs": [
    {
     "name": "stdout",
     "output_type": "stream",
     "text": [
      "total 384\n",
      "-rw-r--r-- 1 apf2139 user   260 Mar 11 14:32 aligned.fa\n",
      "-rw-r--r-- 1 apf2139 user   269 Mar 11 14:32 aligned.phy\n",
      "-rw-r--r-- 1 apf2139 user 44180 Mar 11 14:33 apf2139.ipynb\n",
      "-rw-r--r-- 1 apf2139 user   250 Mar 11 14:32 example.fa\n",
      "-rw-r--r-- 1 apf2139 user    82 Mar 11 14:37 filestderr\n",
      "-rw-r--r-- 1 apf2139 user     6 Mar 11 14:37 filestdout\n",
      "-rw-r--r-- 1 apf2139 user 64539 Mar 11 13:51 jessicahoch.ipynb\n",
      "-rw-r--r-- 1 apf2139 user 70999 Mar 11 13:51 kuratanp.ipynb\n",
      "-rw-r--r-- 1 apf2139 user   212 Mar 11 14:32 RAxML_bestTree.out10\n",
      "-rw-r--r-- 1 apf2139 user   216 Mar 11 14:32 RAxML_bipartitionsBranchLabels.out10\n",
      "-rw-r--r-- 1 apf2139 user   212 Mar 11 14:32 RAxML_bipartitions.out10\n",
      "-rw-r--r-- 1 apf2139 user   470 Mar 11 14:32 RAxML_bootstrap.out10\n",
      "-rw-r--r-- 1 apf2139 user  5464 Mar 11 14:32 RAxML_info.out10\n",
      "-rw-r--r-- 1 apf2139 user 12026 Mar 11 13:51 README.md\n",
      "-rw-r--r-- 1 apf2139 user 82555 Mar 11 13:51 vjjan91.ipynb\n",
      "\n"
     ]
    }
   ],
   "source": [
    "print(stdout.decode())"
   ]
  },
  {
   "cell_type": "markdown",
   "metadata": {},
   "source": [
    "### Using a PIPE to connect multiple program calls\n",
    "\n",
    "It is a bit more complex to call multiple programs that pipe results into one another, but using `subprocess` this can be done in a very clean way. Here we will call two programs where one pipes results to another. \n",
    "\n",
    "```bash\n",
    "echo \"hello world\" | cut -b 1-5\n",
    "```"
   ]
  },
  {
   "cell_type": "code",
   "execution_count": 64,
   "metadata": {},
   "outputs": [],
   "source": [
    "## write the commands to execute\n",
    "cmd1 = \"echo hello world\"\n",
    "cmd2 = \"cut -b 1-5\"\n",
    "\n",
    "## create subprocesses for each, designating stdin and stdout connected by pipes\n",
    "proc1 = sps.Popen(shlex.split(cmd1), stdout=sps.PIPE)\n",
    "proc2 = sps.Popen(shlex.split(cmd2), stdin=proc1.stdout, stdout=sps.PIPE)\n",
    "\n",
    "## execute just the last object, the former will inherit execution\n",
    "stdout, stderr = proc2.communicate()"
   ]
  },
  {
   "cell_type": "code",
   "execution_count": 65,
   "metadata": {},
   "outputs": [
    {
     "name": "stdout",
     "output_type": "stream",
     "text": [
      "hello\n",
      "\n"
     ]
    }
   ],
   "source": [
    "## print result nicely\n",
    "print(stdout.decode())"
   ]
  },
  {
   "cell_type": "markdown",
   "metadata": {},
   "source": [
    "### Call some more interesting biological programs\n",
    "\n",
    "#### Muscle\n",
    "Below we will call the two programs we installed at the top of this notebook. The first is a sequence alignment program called `muscle`. It takes as input a file with genetic sequence data in `fasta` format and uses an algorithm to find the optimal alignment of the sequences (the alignment that minimized the number of differences among them.) This type of operation is commonly used when doing phylogenetic analyses to ensure that homologous sites are being compared when searching for genetic substitutions. Muscle uses the following syntax: \n",
    "\n",
    "```\n",
    "muscle -in <fasta file> -out <fasta file>\n",
    "```\n",
    "\n",
    "However, it is also written so that if no `-out` argument is provided then it simply pipes its output to `stdout`, and similarly if no `-in` argument is provided then it looks for input on `stdin`. Let's try piping input to this program as a string using `stdin`. This can save us the trouble of having to write an input or output file, since we can just pipe string data into the program, and catch the stdout as a string. That is much more efficient. First I'll show the normal way of running `muscle` with file inputs and then the better way of using pipes. "
   ]
  },
  {
   "cell_type": "markdown",
   "metadata": {},
   "source": [
    "#### the normal way of running muscle with file input and outputs"
   ]
  },
  {
   "cell_type": "code",
   "execution_count": 66,
   "metadata": {},
   "outputs": [],
   "source": [
    "## fasta data as a string\n",
    "fasta_data = \"\"\"\\\n",
    ">sample1\n",
    "AAGGCCTTAAGGCGTTAAAACCTTAAGGCCTTAAGGCCTT\n",
    ">sample2\n",
    "AAGGCCTTTTGGCGTTAAAACCTTAAGGCCTAAAGGCCTT\n",
    ">sample3\n",
    "AAGCCCTAAAGCCCTTAAGGCCAAGGCCATAAGGCCGTGG\n",
    ">sample4\n",
    "AAGGCCTAAAGGCCTTAAGGCCAAGGCCATAAGGCCGTCG\n",
    ">sample5\n",
    "TTGGCCTATAGGCCTTTAGGCCAAGGCCTTGACGCCTAAG\n",
    "\"\"\"\n",
    "\n",
    "## write the string to a file\n",
    "with open(\"example.fa\", 'w') as out:\n",
    "    out.write(fasta_data)"
   ]
  },
  {
   "cell_type": "code",
   "execution_count": 67,
   "metadata": {},
   "outputs": [],
   "source": [
    "## run the full command with stdout written to a file\n",
    "cmd = \"muscle -in ./example.fa -out ./aligned.fa\"\n",
    "proc = sps.Popen(shlex.split(cmd), stderr=sps.PIPE)  # log is written to stderr\n",
    "stdout, stderr = proc.communicate()"
   ]
  },
  {
   "cell_type": "code",
   "execution_count": 68,
   "metadata": {},
   "outputs": [
    {
     "name": "stdout",
     "output_type": "stream",
     "text": [
      "\n",
      "MUSCLE v3.8.1551 by Robert C. Edgar\n",
      "\n",
      "http://www.drive5.com/muscle\n",
      "This software is donated to the public domain.\n",
      "Please cite: Edgar, R.C. Nucleic Acids Res 32(5), 1792-97.\n",
      "\n",
      "example 5 seqs, lengths min 40, max 40, avg 40\n",
      "00:00:00     24 MB(1%)  Iter   1    6.67%  K-mer dist pass 1\r",
      "00:00:00     24 MB(1%)  Iter   1  100.00%  K-mer dist pass 1\r\n",
      "00:00:00     24 MB(1%)  Iter   1    6.67%  K-mer dist pass 2\r",
      "00:00:00     24 MB(1%)  Iter   1  100.00%  K-mer dist pass 2\r\n",
      "00:00:00     24 MB(1%)  Iter   1   25.00%  Align node       \r",
      "00:00:00     25 MB(1%)  Iter   1   50.00%  Align node\r",
      "00:00:00     25 MB(1%)  Iter   1   75.00%  Align node\r",
      "00:00:00     25 MB(1%)  Iter   1  100.00%  Align node\r",
      "00:00:00     25 MB(1%)  Iter   1  100.00%  Align node\r\n",
      "00:00:00     25 MB(1%)  Iter   1   20.00%  Root alignment\r",
      "00:00:00     25 MB(1%)  Iter   1   40.00%  Root alignment\r",
      "00:00:00     25 MB(1%)  Iter   1   60.00%  Root alignment\r",
      "00:00:00     25 MB(1%)  Iter   1   80.00%  Root alignment\r",
      "00:00:00     25 MB(1%)  Iter   1  100.00%  Root alignment\r",
      "00:00:00     25 MB(1%)  Iter   1  100.00%  Root alignment\r\n",
      "00:00:00     25 MB(1%)  Iter   2  100.00%  Root alignment\r\n",
      "00:00:00     25 MB(1%)  Iter   3   28.57%  Refine biparts\r",
      "00:00:00     25 MB(1%)  Iter   3   42.86%  Refine biparts\r",
      "00:00:00     25 MB(1%)  Iter   3   57.14%  Refine biparts\r",
      "00:00:00     25 MB(1%)  Iter   3   71.43%  Refine biparts\r",
      "00:00:00     25 MB(1%)  Iter   3   85.71%  Refine biparts\r",
      "00:00:00     25 MB(1%)  Iter   3  100.00%  Refine biparts\r",
      "00:00:00     25 MB(1%)  Iter   3  114.29%  Refine biparts\r",
      "00:00:00     25 MB(1%)  Iter   3  100.00%  Refine biparts\r\n",
      "\n"
     ]
    }
   ],
   "source": [
    "## view the logged stats for the alignment\n",
    "print(stderr.decode())"
   ]
  },
  {
   "cell_type": "code",
   "execution_count": 69,
   "metadata": {},
   "outputs": [
    {
     "name": "stdout",
     "output_type": "stream",
     "text": [
      ">sample5\n",
      "TTGGCCTATAGGCCTTTAGGCC--AAGGCCTTGACGCCTAAG\n",
      ">sample3\n",
      "AAGCCCTAAAGCCCTTAAGGCC--AAGGCCATAAGGCCGTGG\n",
      ">sample4\n",
      "AAGGCCTAAAGGCCTTAAGGCC--AAGGCCATAAGGCCGTCG\n",
      ">sample1\n",
      "AAGGCCTTAAGGCGTTAAAACCTTAAGGCCTTAAGGCCTT--\n",
      ">sample2\n",
      "AAGGCCTTTTGGCGTTAAAACCTTAAGGCCTAAAGGCCTT--\n",
      "\n"
     ]
    }
   ],
   "source": [
    "## read the output from a file\n",
    "with open(\"aligned.fa\", 'r') as infile:\n",
    "    print(infile.read())"
   ]
  },
  {
   "cell_type": "markdown",
   "metadata": {},
   "source": [
    "### Alternative is to use PIPEs directly\n",
    "This way, as I said, can make for much cleaner and faster code. "
   ]
  },
  {
   "cell_type": "code",
   "execution_count": 70,
   "metadata": {},
   "outputs": [],
   "source": [
    "## pipe stdin, stderr, and stdout. The stdin is passed during communicate.\n",
    "proc = sps.Popen([\"muscle\"], stdin=sps.PIPE, stdout=sps.PIPE, stderr=sps.PIPE)\n",
    "stdout, stderr = proc.communicate(input=fasta_data.encode())"
   ]
  },
  {
   "cell_type": "code",
   "execution_count": 71,
   "metadata": {},
   "outputs": [
    {
     "name": "stdout",
     "output_type": "stream",
     "text": [
      ">sample5\n",
      "TTGGCCTATAGGCCTTTAGGCC--AAGGCCTTGACGCCTAAG\n",
      ">sample3\n",
      "AAGCCCTAAAGCCCTTAAGGCC--AAGGCCATAAGGCCGTGG\n",
      ">sample4\n",
      "AAGGCCTAAAGGCCTTAAGGCC--AAGGCCATAAGGCCGTCG\n",
      ">sample1\n",
      "AAGGCCTTAAGGCGTTAAAACCTTAAGGCCTTAAGGCCTT--\n",
      ">sample2\n",
      "AAGGCCTTTTGGCGTTAAAACCTTAAGGCCTAAAGGCCTT--\n",
      "\n"
     ]
    }
   ],
   "source": [
    "## view the stdout variable\n",
    "print(stdout.decode())"
   ]
  },
  {
   "cell_type": "code",
   "execution_count": 72,
   "metadata": {},
   "outputs": [
    {
     "name": "stdout",
     "output_type": "stream",
     "text": [
      "\n",
      "MUSCLE v3.8.1551 by Robert C. Edgar\n",
      "\n",
      "http://www.drive5.com/muscle\n",
      "This software is donated to the public domain.\n",
      "Please cite: Edgar, R.C. Nucleic Acids Res 32(5), 1792-97.\n",
      "\n",
      "- 5 seqs, lengths min 40, max 40, avg 40\n",
      "00:00:00     23 MB(1%)  Iter   1    6.67%  K-mer dist pass 1\r",
      "00:00:00     23 MB(1%)  Iter   1  100.00%  K-mer dist pass 1\r\n",
      "00:00:00     23 MB(1%)  Iter   1    6.67%  K-mer dist pass 2\r",
      "00:00:00     23 MB(1%)  Iter   1  100.00%  K-mer dist pass 2\r\n",
      "00:00:00     23 MB(1%)  Iter   1   25.00%  Align node       \r",
      "00:00:00     24 MB(1%)  Iter   1   50.00%  Align node\r",
      "00:00:00     24 MB(1%)  Iter   1   75.00%  Align node\r",
      "00:00:00     24 MB(1%)  Iter   1  100.00%  Align node\r",
      "00:00:00     24 MB(1%)  Iter   1  100.00%  Align node\r\n",
      "00:00:00     24 MB(1%)  Iter   1   20.00%  Root alignment\r",
      "00:00:00     24 MB(1%)  Iter   1   40.00%  Root alignment\r",
      "00:00:00     24 MB(1%)  Iter   1   60.00%  Root alignment\r",
      "00:00:00     24 MB(1%)  Iter   1   80.00%  Root alignment\r",
      "00:00:00     24 MB(1%)  Iter   1  100.00%  Root alignment\r",
      "00:00:00     24 MB(1%)  Iter   1  100.00%  Root alignment\r\n",
      "00:00:00     24 MB(1%)  Iter   2  100.00%  Root alignment\r\n",
      "00:00:00     24 MB(1%)  Iter   3   28.57%  Refine biparts\r",
      "00:00:00     24 MB(1%)  Iter   3   42.86%  Refine biparts\r",
      "00:00:00     24 MB(1%)  Iter   3   57.14%  Refine biparts\r",
      "00:00:00     24 MB(1%)  Iter   3   71.43%  Refine biparts\r",
      "00:00:00     24 MB(1%)  Iter   3   85.71%  Refine biparts\r",
      "00:00:00     24 MB(1%)  Iter   3  100.00%  Refine biparts\r",
      "00:00:00     24 MB(1%)  Iter   3  114.29%  Refine biparts\r",
      "00:00:00     24 MB(1%)  Iter   3  100.00%  Refine biparts\r\n",
      "\n"
     ]
    }
   ],
   "source": [
    "## view the stderr variable\n",
    "print(stderr.decode())"
   ]
  },
  {
   "cell_type": "markdown",
   "metadata": {},
   "source": [
    "### Another command line program: RAxML\n",
    "Another program we will test out is `raxml`, this is a CLI program for inferring phylogenetic trees from sequence alignments. Here we are going to write our first pipeline program by parsing the results of a `muscle` execution and then reformatting those results using Python before entering them into `raxml`. The fasta sequence alignment format can be seen above. In it, each sequence has a line for the name which starts with \">\" and then the following line has the sequence. Raxml also supporta a different sequence format called \"phylip\", in which the names and sequences are on the same line, and there is no \">\" at the beginning of names. Let's write a short converter to change from fasta to phylip.  "
   ]
  },
  {
   "cell_type": "code",
   "execution_count": 73,
   "metadata": {},
   "outputs": [
    {
     "data": {
      "text/plain": [
       "'>sample5\\nTTGGCCTATAGGCCTTTAGGCC--AAGGCCTTGACGCCTAAG\\n>sample3\\nAAGCCCTAAAGCCCTTAAGGCC--AAGGCCATAAGGCCGTGG\\n>sample4\\nAAGGCCTAAAGGCCTTAAGGCC--AAGGCCATAAGGCCGTCG\\n>sample1\\nAAGGCCTTAAGGCGTTAAAACCTTAAGGCCTTAAGGCCTT--\\n>sample2\\nAAGGCCTTTTGGCGTTAAAACCTTAAGGCCTAAAGGCCTT--\\n'"
      ]
     },
     "execution_count": 73,
     "metadata": {},
     "output_type": "execute_result"
    }
   ],
   "source": [
    "fasta_string = stdout.decode()\n",
    "fasta_string"
   ]
  },
  {
   "cell_type": "markdown",
   "metadata": {},
   "source": [
    "### converter\n",
    "Examine the fasta_string above and the code below to understand how it parses this string into phylip format. Run some of the split commands on the fasta_string separately to see how they split it. \n"
   ]
  },
  {
   "cell_type": "code",
   "execution_count": 74,
   "metadata": {},
   "outputs": [],
   "source": [
    "def fasta_to_phylip(fasta_string):\n",
    "    ntaxa = len(fasta_string.split(\">\")[1:])\n",
    "    seqlen = len(fasta_string.split(\"\\n\")[1])\n",
    "    seqs = [i.strip().replace(\"\\n\", \"   \") for i in fasta_string.split(\">\")[1:]]\n",
    "    seqstring = \"\\n\".join(seqs)\n",
    "    phylip = \"{} {}\\n{}\".format(ntaxa, seqlen, seqstring)\n",
    "    return phylip"
   ]
  },
  {
   "cell_type": "code",
   "execution_count": 75,
   "metadata": {},
   "outputs": [
    {
     "name": "stdout",
     "output_type": "stream",
     "text": [
      "5 42\n",
      "sample5   TTGGCCTATAGGCCTTTAGGCC--AAGGCCTTGACGCCTAAG\n",
      "sample3   AAGCCCTAAAGCCCTTAAGGCC--AAGGCCATAAGGCCGTGG\n",
      "sample4   AAGGCCTAAAGGCCTTAAGGCC--AAGGCCATAAGGCCGTCG\n",
      "sample1   AAGGCCTTAAGGCGTTAAAACCTTAAGGCCTTAAGGCCTT--\n",
      "sample2   AAGGCCTTTTGGCGTTAAAACCTTAAGGCCTAAAGGCCTT--\n"
     ]
    }
   ],
   "source": [
    "phylip_string = fasta_to_phylip(fasta_string)\n",
    "print(phylip_string)"
   ]
  },
  {
   "cell_type": "markdown",
   "metadata": {},
   "source": [
    "### Run raxml\n",
    "\n",
    "Raxml doesn't allow input through `stdin` so we will have to write the data to a file. All programs are written differently, so you often need to examine the documentation or help command to find out how the input and outputs are used. In addition, raxml writes it's log information to stdout instead of stderr. Again, this is just something that some developers do. Because the output is always written to a file for raxml it doesn't really matter whether the log is written to stderr or stdout. Here we use the required argument `-n` to give a name to the output file. If an output file with that name already exists then it will raise an error. \n",
    "\n",
    "\n",
    "The program raxml takes a lot of arguments which I won't describe for now, but these are the minimal number of arguments required to infer a tree using the algorithm designated. We will discuss some of the detail of phylogenetic inference in a later session. For now, its enough to know that the following program will take the aligned sequence data and infer the best phylogenetic tree based on the observed differences among sequences. "
   ]
  },
  {
   "cell_type": "code",
   "execution_count": 76,
   "metadata": {},
   "outputs": [],
   "source": [
    "## create the command string\n",
    "cmd = \"raxmlHPC -f a -m GTRGAMMA -p 123 -x 123 -N 10 -s aligned.phy -n out10\"\n",
    "proc = sps.Popen(shlex.split(cmd), stdout=sps.PIPE, stderr=sps.PIPE)\n",
    "\n",
    "## align the data and write alignment as a phylip file\n",
    "with open(\"aligned.phy\", 'w') as out:\n",
    "    out.write(phylip_string)\n",
    "\n",
    "## run the job\n",
    "stdout, stderr = proc.communicate()"
   ]
  },
  {
   "cell_type": "code",
   "execution_count": 77,
   "metadata": {},
   "outputs": [
    {
     "name": "stdout",
     "output_type": "stream",
     "text": [
      "RAxML output files with the run ID <out10> already exist \n",
      "in directory /rigel/home/apf2139/PDSB/repos/7-remote-subprocess/Code-Review/ ...... exiting\n",
      "\n"
     ]
    }
   ],
   "source": [
    "print(stdout.decode())"
   ]
  },
  {
   "cell_type": "markdown",
   "metadata": {},
   "source": [
    "### We could wrap this all into a Class object\n",
    "Finish writing the class object. Write it so that it can accomplish the following tasks: \n",
    "\n",
    "+ all of the attribute variables in `__init__` (e.g., self.aligned) are filled by functions called during the `.run()` function.\n",
    "+ the `_run_raxml()` function removes an existing output file with the same name if it exists.\n",
    "+ the `_run_raxml()` function modifies the command for raxml by replacing the argument `-n out` with `-n <outname>`, and then running it with subprocess and parsing the result.\n",
    "+ the `_run_raxml()` function parses the result from the raxml output file `RAxML_bestTree.<outname>` as a string and returns it."
   ]
  },
  {
   "cell_type": "code",
   "execution_count": 78,
   "metadata": {},
   "outputs": [],
   "source": [
    "class Phylogeny:\n",
    "    def __init__(self, fasta_string):\n",
    "        ## store data\n",
    "        self.fasta = fasta_string\n",
    "        self.aligned = None\n",
    "        self.phylip = None\n",
    "        self.tree = None\n",
    "        self.log = None\n",
    "        \n",
    "    # private functions\n",
    "    def _muscle_align(self):\n",
    "        proc = sps.Popen([\"muscle\"], stdin=sps.PIPE, stdout=sps.PIPE, stderr=sps.PIPE)\n",
    "        stdout, stderr = proc.communicate(input=fasta_data.encode())\n",
    "        self.log = stdout.decode()\n",
    "        return self.log\n",
    "    \n",
    "    def _aligned_fasta_to_phylip(self):\n",
    "        ntaxa = len(self.log.split(\">\")[1:])\n",
    "        seqlen = len(self.log.split(\"\\n\")[1])\n",
    "        seqs = [i.strip().replace(\"\\n\", \"   \") for i in self.log.split(\">\")[1:]]\n",
    "        seqstring = \"\\n\".join(seqs)\n",
    "        phylip = \"{} {}\\n{}\".format(ntaxa, seqlen, seqstring)\n",
    "        self.log = phylip\n",
    "        return self.log\n",
    "    \n",
    "    def _run_raxml(self, outname):\n",
    "        cmd = \"raxmlHPC -f a -m GTRGAMMA -p 123 -x 123 -N 10 -s aligned.phy -n out10\"\n",
    "        proc = sps.Popen(shlex.split(cmd), stdout=sps.PIPE, stderr=sps.PIPE)\n",
    "        with open(\"aligned.phy\", 'w') as out:\n",
    "            out.write(phylip_string)\n",
    "        stdout, stderr = proc.communicate()\n",
    "        self.log=stdout.decode()\n",
    "        return self.log\n",
    "    \n",
    "    # public function\n",
    "    def run(self, outname):\n",
    "        self.aligned = self._muscle_align()\n",
    "        self.phylip = self._aligned_fasta_to_phylip()\n",
    "        self.tree = self._run_raxml(outname)"
   ]
  },
  {
   "cell_type": "code",
   "execution_count": 79,
   "metadata": {},
   "outputs": [
    {
     "data": {
      "text/plain": [
       "'>sample5\\nTTGGCCTATAGGCCTTTAGGCC--AAGGCCTTGACGCCTAAG\\n>sample3\\nAAGCCCTAAAGCCCTTAAGGCC--AAGGCCATAAGGCCGTGG\\n>sample4\\nAAGGCCTAAAGGCCTTAAGGCC--AAGGCCATAAGGCCGTCG\\n>sample1\\nAAGGCCTTAAGGCGTTAAAACCTTAAGGCCTTAAGGCCTT--\\n>sample2\\nAAGGCCTTTTGGCGTTAAAACCTTAAGGCCTAAAGGCCTT--\\n'"
      ]
     },
     "execution_count": 79,
     "metadata": {},
     "output_type": "execute_result"
    }
   ],
   "source": [
    "fasta_string"
   ]
  },
  {
   "cell_type": "markdown",
   "metadata": {},
   "source": [
    "### Test the code"
   ]
  },
  {
   "cell_type": "code",
   "execution_count": 80,
   "metadata": {},
   "outputs": [
    {
     "name": "stdout",
     "output_type": "stream",
     "text": [
      "RAxML output files with the run ID <out10> already exist \n",
      "in directory /rigel/home/apf2139/PDSB/repos/7-remote-subprocess/Code-Review/ ...... exiting\n",
      "\n"
     ]
    }
   ],
   "source": [
    "## run your code\n",
    "phy = Phylogeny(fasta_string)\n",
    "phy.run(outname=\"test\")\n",
    "print(phy.tree)"
   ]
  },
  {
   "cell_type": "code",
   "execution_count": 81,
   "metadata": {
    "scrolled": true
   },
   "outputs": [
    {
     "ename": "NameError",
     "evalue": "name 'p' is not defined",
     "output_type": "error",
     "traceback": [
      "\u001b[0;31m---------------------------------------------------------------------------\u001b[0m",
      "\u001b[0;31mNameError\u001b[0m                                 Traceback (most recent call last)",
      "\u001b[0;32m<ipython-input-81-dddc530f5338>\u001b[0m in \u001b[0;36m<module>\u001b[0;34m()\u001b[0m\n\u001b[1;32m      1\u001b[0m \u001b[0;31m## plot the tree\u001b[0m\u001b[0;34m\u001b[0m\u001b[0;34m\u001b[0m\u001b[0m\n\u001b[0;32m----> 2\u001b[0;31m \u001b[0mp\u001b[0m\u001b[0;34m.\u001b[0m\u001b[0mtree\u001b[0m \u001b[0;34m=\u001b[0m \u001b[0;34m\"RAxML_bestTree.out10\"\u001b[0m\u001b[0;34m\u001b[0m\u001b[0m\n\u001b[0m\u001b[1;32m      3\u001b[0m \u001b[0mtree\u001b[0m \u001b[0;34m=\u001b[0m \u001b[0mtoytree\u001b[0m\u001b[0;34m.\u001b[0m\u001b[0mtree\u001b[0m\u001b[0;34m(\u001b[0m\u001b[0mp\u001b[0m\u001b[0;34m.\u001b[0m\u001b[0mtree\u001b[0m\u001b[0;34m)\u001b[0m\u001b[0;34m\u001b[0m\u001b[0m\n\u001b[1;32m      4\u001b[0m \u001b[0mtree\u001b[0m\u001b[0;34m.\u001b[0m\u001b[0mdraw\u001b[0m\u001b[0;34m(\u001b[0m\u001b[0mwidth\u001b[0m\u001b[0;34m=\u001b[0m\u001b[0;36m300\u001b[0m\u001b[0;34m)\u001b[0m\u001b[0;34m;\u001b[0m\u001b[0;34m\u001b[0m\u001b[0m\n",
      "\u001b[0;31mNameError\u001b[0m: name 'p' is not defined"
     ]
    }
   ],
   "source": [
    "## plot the tree\n",
    "p.tree = \"RAxML_bestTree.out10\"\n",
    "tree = toytree.tree(p.tree)\n",
    "tree.draw(width=300);"
   ]
  },
  {
   "cell_type": "markdown",
   "metadata": {},
   "source": [
    "# code review by apf2139"
   ]
  },
  {
   "cell_type": "markdown",
   "metadata": {},
   "source": [
    "### fill all attributes?\n",
    "yes. the run function fills all attributes. the code below indicates that no attribute is left unfilled."
   ]
  },
  {
   "cell_type": "code",
   "execution_count": 82,
   "metadata": {},
   "outputs": [],
   "source": [
    "p = Phylogeny(fasta_string)\n",
    "p.run(outname=\"code-review\")\n",
    "\n",
    "for attribute in [p.fasta, p.aligned, p.phylip, p.tree, p.log]:\n",
    "    if attribute is None:\n",
    "    \tprint(\"the attribute {} should have been filled\".format(attribute))"
   ]
  },
  {
   "cell_type": "markdown",
   "metadata": {},
   "source": [
    "### reset outname?\n",
    "\n",
    "no, the raxml function does not allow for setting an outname. the code below indicates that setting an outname of 'code-review' does not generate output files with that name"
   ]
  },
  {
   "cell_type": "code",
   "execution_count": 83,
   "metadata": {},
   "outputs": [
    {
     "data": {
      "text/plain": [
       "False"
      ]
     },
     "execution_count": 83,
     "metadata": {},
     "output_type": "execute_result"
    }
   ],
   "source": [
    "p = Phylogeny(fasta_string)\n",
    "p.run(outname=\"code-review\")\n",
    "\n",
    "import os\n",
    "os.path.exists(\"./RAxML_bestTree.code-review\")"
   ]
  },
  {
   "cell_type": "markdown",
   "metadata": {},
   "source": [
    "### output parsed as string?\n",
    "no, the output is not stored and parsed as a string. I changed the output to read the out10 output generated by the code."
   ]
  },
  {
   "cell_type": "code",
   "execution_count": 85,
   "metadata": {},
   "outputs": [
    {
     "name": "stdout",
     "output_type": "stream",
     "text": [
      "False\n"
     ]
    }
   ],
   "source": [
    "p = Phylogeny(fasta_string)\n",
    "#p.run(outname=\"code-review\")\n",
    "\n",
    "# open the bestTree file and compare it to self.tree as string data\n",
    "with open(\"./RAxML_bestTree.out10\", 'r') as treedata:\n",
    "    print(p.tree == treedata.read())"
   ]
  }
 ],
 "metadata": {
  "kernelspec": {
   "display_name": "Python 3",
   "language": "python",
   "name": "python3"
  },
  "language_info": {
   "codemirror_mode": {
    "name": "ipython",
    "version": 3
   },
   "file_extension": ".py",
   "mimetype": "text/x-python",
   "name": "python",
   "nbconvert_exporter": "python",
   "pygments_lexer": "ipython3",
   "version": "3.6.4"
  }
 },
 "nbformat": 4,
 "nbformat_minor": 2
}
