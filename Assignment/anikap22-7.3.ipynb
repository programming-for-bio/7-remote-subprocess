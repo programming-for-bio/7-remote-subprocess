{
 "cells": [
  {
   "cell_type": "markdown",
   "metadata": {},
   "source": [
    "### HPC Notebook Assignment"
   ]
  },
  {
   "cell_type": "markdown",
   "metadata": {},
   "source": [
    "This notebook is meant to be run on the HPC Cluster to show that you have successfully setup SSH tunneling of jupyter notebooks by submitting a job script to start a notebook server, and that you have successfully installed a working conda environment. Read the instructions below to learn how to run a notebook server on the remote cluster. \n",
    "\n",
    "The instructions in this notebook mostly consist of bash commands, and they are commented out because you are intended to enter them into a separate terminal. However, the instructions at the very end includes one cell of Python code that you will execute at the very end after you have successfully opened this notebook on the remote cluster."
   ]
  },
  {
   "cell_type": "markdown",
   "metadata": {},
   "source": [
    "### Required software\n",
    "The following package must be installed on the remote computer (HPC cluster). "
   ]
  },
  {
   "cell_type": "code",
   "execution_count": 30,
   "metadata": {},
   "outputs": [],
   "source": [
    "# conda install notebook "
   ]
  },
  {
   "cell_type": "markdown",
   "metadata": {},
   "source": [
    "### Clone and fork of the 7-ssh-pipelines repo to your PDSB/ directory on remote"
   ]
  },
  {
   "cell_type": "code",
   "execution_count": 5,
   "metadata": {},
   "outputs": [],
   "source": [
    "# <fork the repo>\n",
    "# mkdir PDSB/\n",
    "# cd PDSB/\n",
    "# git clone https://github.com/<gh-username>/7-ssh-pipelines\n",
    "# cd ~"
   ]
  },
  {
   "cell_type": "markdown",
   "metadata": {},
   "source": [
    "### SSH Tunneling with jupyter\n",
    "So far we have only ran jupyter notebooks locally on our own machines. However, you may remember that in class I have referred to jupyter as a **notebook server**. The word server here is in fact the same term that we mean when we talk about a server that hosts websites. It is something that can send and recieve information over the internet, and which renders its results in a browser. Jupyter notebooks are a visual representation of the outputs produced when information is sent back and forth to the server. Because jupyter notebook servers are capable of exchanging information over the internet, we can actually run a server remotely, such as on the HPC cluster, and still interact with the notebook just like it was running on our local machine by connecting to it through a browser. In this notebook we will walk through how to set this up. "
   ]
  },
  {
   "cell_type": "markdown",
   "metadata": {},
   "source": [
    "### Set up a password\n",
    "The first thing we want to do after installing jupyter is to set up a password so that we can securely connect to it over the internet. To do this, connect to your remote cluster using `ssh` and run the command `jupyter notebook password`. Then enter your password to store an encrypted key version of it that jupyter will use to authenticate you when you connect. "
   ]
  },
  {
   "cell_type": "code",
   "execution_count": 31,
   "metadata": {},
   "outputs": [],
   "source": [
    "# jupyter notebook password"
   ]
  },
  {
   "cell_type": "markdown",
   "metadata": {},
   "source": [
    "### jupyter server arguments\n",
    "When we start a jupyter notebook server locally we usually just type `jupyter-notebook` at the command line. To start a remote server we will need to add a few additional arguments that will help to secure the connection:\n",
    "\n",
    "+ The argumnent `--ip` and the IP address of the remote host we are running the server from.\n",
    "+ The argument `--port` and the port that we are sending information over (this can be any random number between 8000-9999). \n",
    "+ The argument `--no-browser` to tell it not to try to open a browser on the remote terminal. \n",
    "\n",
    "Below is an example of the command we would use to start a remote notebook server. In this case we use the command `hostname -i` inside of `$( )` which returns the result of that command as a bash variable. The result will be the ip address of whichever node the command is run on. **We don't want to run this command yet**, however, since we are still on the head node. Instead, we will write a slurm script to submit this command to run on a compute node. "
   ]
  },
  {
   "cell_type": "code",
   "execution_count": 32,
   "metadata": {},
   "outputs": [],
   "source": [
    "# jupyter-notebook --ip=$(hostname -i) --port=8888 --no-browser"
   ]
  },
  {
   "cell_type": "markdown",
   "metadata": {},
   "source": [
    "## The job submisision script\n",
    "Below is the slurm submission script `jupyter-edu.sbatch` that I have placed in our shared scratch space. It has the following commands: \n",
    "\n",
    "SBATCH commands:\n",
    "+ The walltime for the job is 1 hour\n",
    "+ The log file (output) will be saved in outputs/\n",
    "+ The output will be named `slurm-<jobid>-<jobname>`\n",
    "+ It will request one core\n",
    "\n",
    "Code: \n",
    "+ cd into `$HOME` and sets a variable to \"\" (this is to fix a known bug of jupyter & slurm)\n",
    "+ stores variables for a random port number and the job node ip address\n",
    "+ prints a statement with `echo` to the output file with instructions for connecting to the notebook server once it is started. \n",
    "+ command to start jupyter running on a specific port and ip address. \n",
    "\n",
    "\n",
    "------------------------------------------"
   ]
  },
  {
   "cell_type": "markdown",
   "metadata": {},
   "source": [
    "```bash\n",
    "#!/bin/sh\n",
    "#SBATCH --account=edu\n",
    "#SBATCH --time=1:00:00\n",
    "#SBATCH --job-name=notebook\n",
    "#SBATCH --workdir=outputs\n",
    "#SBATCH --output=slurm-%j-%x.out\n",
    "#SBATCH -c 1\n",
    "\n",
    "## cd home and unset XDG variable\n",
    "cd $HOME\n",
    "XDG_RUNTIME_DIR=\"\"\n",
    "\n",
    "## get random port and current IP\n",
    "ipnport=$(shuf -i8000-9999 -n1)\n",
    "ipnip=$(hostname -i)\n",
    "\n",
    "## print tunneling instructions\n",
    "echo -e \"\n",
    "   Copy/Paste this in your local terminal to ssh tunnel with remote\n",
    "   ----------------------------------------------------------------\n",
    "   ssh -N -L $ipnport:$ipnip:$ipnport user@host                    \n",
    "   ------------------------------------------------------------------\n",
    "\n",
    "   Then open a browser on your local machine to the following address\n",
    "   ------------------------------------------------------------------\n",
    "   localhost:$ipnport  (prefix w/ https:// if using password)       \n",
    "   ------------------------------------------------------------------\n",
    "   \"\n",
    "\n",
    "## start the notebook (no whitespace after the '\\' marks).\n",
    "jupyter-notebook --no-browser \\\n",
    "                 --ip=$ipnip \\\n",
    "                 --port=$ipnport\n",
    "```"
   ]
  },
  {
   "cell_type": "markdown",
   "metadata": {},
   "source": [
    "## Submit the job script\n",
    "Next use `sbatch` to submit the job script on the remote cluster. Then follow the instructions in the output file to connect to jupyter from the browser in your local machine. This is demonstrated in the GIF below, though it is a bit hard to see. Here is what is happening: \n",
    "\n",
    "1. Call `sbatch` on **remote** to submit the script from `/rigel/edu/w4050/files/jupyter-edu.sbatch`. \n",
    "2. Use `cat` on **remote** to read the output from `./outputs/slurm-<jobid>-notebook.out`\n",
    "3. Use `ssh` on **local** to run the command from the output file that forwards the information from the remote cluster to make it available in your browser. The last argument to the `ssh` command is our command to login to `habanero` which is simply `habanero` since we set up or config file earlier. \n",
    "4. Go to any browser on your **local** machine and open `localhost:<port>` where you get the port number from the output file in step 3. \n",
    "\n",
    "![../Lecture/ssh-habanero7.gif](../Lecture/ssh-habanero7.gif)"
   ]
  },
  {
   "cell_type": "markdown",
   "metadata": {},
   "source": [
    "### Assignment\n",
    "\n",
    "1. Run the instructions above to connect to your home directory on remote by ssh tunneling with a jupyter-notebook. \n",
    "2. `cd` into your forked repository of `7-ssh-pipelines`. \n",
    "3. Create a copy of this notebook and put the copy in the `Assignment/` directory named `Assignment/<gh-username>-7.3.ipynb`.  \n",
    "4. In jupyter open the new notebook copy\n",
    "5. Go all the way to the bottom of the notebook (the cell below) and execute the cell to prove that you successfully connected to this notebook on habanero. \n",
    "6. Save the notebook. Use `git` to add, commit, and push the notebook to GitHub and make a pull-request. You should only add the new Assignment file, no other files. Like below.\n",
    "\n",
    "\n",
    "The code below demonstrates how to submit the assignement:\n",
    "\n",
    "-------------------------------------\n",
    "\n",
    "```bash\n",
    "## copy notebook to Assignment dir/\n",
    "cp Notebooks/nb-7.3-tunneling.ipynb Assignment/<gh-username>-7.3.ipynb\n",
    "\n",
    "## run the notebook\n",
    "## ...\n",
    "\n",
    "## then add, commit, and push your Assignment notebook\n",
    "git add Assignment/<gh-username>-7.3.ipynb\n",
    "git commit -m \"added notebook assignment from habanero\"\n",
    "git push origin master\n",
    "```"
   ]
  },
  {
   "cell_type": "markdown",
   "metadata": {},
   "source": [
    "### Run this final code before submitting the notebook to show you completed it.\n",
    "And don't forget to save."
   ]
  },
  {
   "cell_type": "code",
   "execution_count": 1,
   "metadata": {},
   "outputs": [
    {
     "name": "stdout",
     "output_type": "stream",
     "text": [
      "hostname: node219\n",
      "location: /rigel/home/arp2195/PDSB/7-remote-subprocess/Assignment\n"
     ]
    }
   ],
   "source": [
    "import socket\n",
    "import os\n",
    "\n",
    "print(\"hostname: {}\".format(socket.gethostname()))\n",
    "print(\"location: {}\".format(os.path.realpath(\"./\")))"
   ]
  },
  {
   "cell_type": "markdown",
   "metadata": {},
   "source": [
    "### Some final information about stopping the notebook server\n",
    "As long as the slurm script is running your notebook server will continue to be active. You can connect to it, disconnect from it, and reconnect to it as much as you like by running or stopping the `ssh` tunneling command (i.e., the `ssh -N -L ...` command running on local). To stop the server running on the remote you can find the job-id by using `squeue -u <UNI>` and then you can cancel the job early by running `scancel <jobid>`. "
   ]
  }
 ],
 "metadata": {
  "kernelspec": {
   "display_name": "Python 3",
   "language": "python",
   "name": "python3"
  },
  "language_info": {
   "codemirror_mode": {
    "name": "ipython",
    "version": 3
   },
   "file_extension": ".py",
   "mimetype": "text/x-python",
   "name": "python",
   "nbconvert_exporter": "python",
   "pygments_lexer": "ipython3",
   "version": "3.6.4"
  }
 },
 "nbformat": 4,
 "nbformat_minor": 2
}
